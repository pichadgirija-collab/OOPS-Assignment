{
  "nbformat": 4,
  "nbformat_minor": 0,
  "metadata": {
    "colab": {
      "provenance": []
    },
    "kernelspec": {
      "name": "python3",
      "display_name": "Python 3"
    },
    "language_info": {
      "name": "python"
    }
  },
  "cells": [
    {
      "cell_type": "markdown",
      "source": [
        "Name: Girija Pichad. Email: pichadgirija@gmail.com Drive Link: N/A Github Link:"
      ],
      "metadata": {
        "id": "e602UHa6IzHg"
      }
    },
    {
      "cell_type": "markdown",
      "source": [
        "# **Theory Questions**\n",
        "\n",
        "**1. What is Object-Oriented Programming (OOP)?**\n",
        "  * As the name suggests, Object-Oriented Programming or OOPs refers to languages that use objects in programming. Object-oriented programming aims to implement real-world entities like inheritance, hiding, polymorphism, etc in programming. The main aim of OOP is to bind together the data and the functions that operate on them so that no other part of the code can access this data except that function.\n",
        "  * OOP was conceptualized by Alan Kay in the mid-1960s and first implemented in the SIMULA language.\n",
        "  * Object-Oriented Programming (OOP) is a programming paradigm that organizes software design around objects, which are instances of classes. These objects represent real-world entities and are used to encapsulate data (attributes) and behavior (methods) into a single unit.\n",
        "  * Object-oriented programming concepts\n",
        "      When programming in an object-oriented programming language, keep the following four key concepts in mind.\n",
        "\n",
        "    * Encapsulation - The grouping of related functions and data (variables) together into an object to help reduce complexity and allow parts of the code to be reused.\n",
        "    * Abstraction - Show only the essentials to reduce the abstract of change\n",
        "    * Inheritance - Eliminate redundant code by inheriting functions and data from other classes.\n",
        "    * Polymorphism - Change how an object function depending on the data or class.\n",
        "   * Benefits of OOP:\n",
        "     * Modularity: Code is organized into classes, making it easier to manage and maintain.\n",
        "     * Reusability: Inheritance allows code reuse across different parts of the program.\n",
        "     * Scalability: Polymorphism and abstraction make it easier to extend and modify code.\n",
        "     * Security: Encapsulation protects sensitive data by restricting access.\n",
        "\n",
        "**2. What is a class in OOP?**\n",
        "  * In Object-Oriented Programming (OOP), a class is a blueprint for creating objects. It defines a set of attributes (data) and methods (functions) that the objects created from the class will have. Classes enable modularity, reusability, and code organization, making complex systems easier to maintain.\n",
        "   * A class is a user-defined data type. It consists of data members and member functions, which can be accessed and used by creating an instance of that class. It represents the set of properties or methods that are common to all objects of one type. A class is like a blueprint for an object.  \n",
        "   * For Example: Consider the Class of Cars. There may be many cars with different names and brands but all of them will share some common properties like all of them will have 4 wheels, Speed Limit, Mileage range, etc. So here, Car is the class, and wheels, speed limits, mileage are their properties.\n",
        "   * Example of Creating a Class:  \n",
        "\n",
        "\n",
        "\n",
        "      \n",
        "\n",
        "\n"
      ],
      "metadata": {
        "id": "VbSxFR_B0ruA"
      }
    },
    {
      "cell_type": "code",
      "source": [
        "class Car:\n",
        "    def __init__(self, model, color, speed):\n",
        "        self.model = model\n",
        "        self.color = color\n",
        "        self.speed = speed\n",
        "\n",
        "    def accelerate(self):\n",
        "        self.speed += 5\n",
        "        print(f\"The {self.model} accelerates to {self.speed} mph.\")\n",
        "\n",
        "    def brake(self):\n",
        "        self.speed -= 5\n",
        "        print(f\"The {self.model} slows down to {self.speed} mph.\")\n",
        "\n",
        "# Creating instances of the Car class\n",
        "bmw = Car(\"BMW\", \"red\", 50)\n",
        "ferrari = Car(\"Ferrari\", \"black\", 60)\n",
        "\n",
        "bmw.accelerate()\n",
        "ferrari.brake()"
      ],
      "metadata": {
        "colab": {
          "base_uri": "https://localhost:8080/"
        },
        "id": "4dUtkLhXrcD0",
        "outputId": "d06ca19f-d421-448d-f279-9d89b6eb9293"
      },
      "execution_count": null,
      "outputs": [
        {
          "output_type": "stream",
          "name": "stdout",
          "text": [
            "The BMW accelerates to 55 mph.\n",
            "The Ferrari slows down to 55 mph.\n"
          ]
        }
      ]
    },
    {
      "cell_type": "markdown",
      "source": [
        "  * In this example, the Car class has attributes model, color, and speed, and methods accelerate and brake. Instances of the Car class, bmw and ferrari, are created and their methods are called.\n",
        "\n",
        "   **3.  What is an object in OOPs?**\n",
        "  * In the context of Object-Oriented Programming, an object is an instance of a class that encapsulates data and functionality including that data. Objects serve as the basic building blocks of OOP applications, embodying both the properties (data) and behaviors (methods) relevant to the software being developed. Objects are created using classes, which define their structure; once instantiated, objects operate independently but can interact through defined interfaces, following the principles of encapsulation and abstraction. This setup not only facilitates more modular and scalable application development but also enhances the reusability and maintainability of code.\n",
        "  * Object is a basic unit of Object-Oriented Programming and represents the real-life entities. An Object is an instance of a Class. When a class is defined, no memory is allocated but when it is instantiated (i.e. an object is created) memory is allocated. An object has an identity, state, and behavior. Each object contains data and code to manipulate the data. Objects can interact without having to know details of each other’s data or code, it is sufficient to know the type of message accepted and type of response returned by the objects.\n",
        "\n",
        "  * For example “Dog” is a real-life Object, which has some characteristics like color, Breed, Bark, Sleep, and Eats.\n",
        "  * Example of Creating an Object:\n",
        "  \n",
        "\n"
      ],
      "metadata": {
        "id": "dXLLrjPericI"
      }
    },
    {
      "cell_type": "code",
      "execution_count": null,
      "metadata": {
        "id": "ORBk1HeN0luF",
        "colab": {
          "base_uri": "https://localhost:8080/"
        },
        "outputId": "99f33b25-9ea5-4500-d941-0b78acf78d15"
      },
      "outputs": [
        {
          "output_type": "stream",
          "name": "stdout",
          "text": [
            "Laptop Name: MyBook\n",
            "Model Number: 2022\n",
            "Laptop: MyBook, Model: 2022\n"
          ]
        }
      ],
      "source": [
        "class Laptop:\n",
        "    def __init__(self, name, model_number):\n",
        "        self.name = name\n",
        "        self.model_number = model_number\n",
        "\n",
        "    def get_details(self):\n",
        "        print(f\"Laptop Name: {self.name}\")\n",
        "        print(f\"Model Number: {self.model_number}\")\n",
        "\n",
        "    def display(self):\n",
        "        print(f\"Laptop: {self.name}, Model: {self.model_number}\")\n",
        "\n",
        "# Example of creating an object (instance of the class)\n",
        "my_laptop = Laptop(\"MyBook\", 2022)\n",
        "\n",
        "# Accessing object attributes and calling methods\n",
        "my_laptop.get_details()\n",
        "my_laptop.display()"
      ]
    },
    {
      "cell_type": "markdown",
      "source": [
        "**4. What is the difference between abstraction and encapsulation?**\n",
        "  * Abstraction and encapsulation are two fundamental concepts in object-oriented programming (OOP). While they are related, they serve different purposes and focus on different aspects of software design. Here's a clear distinction:\n",
        "   *  Abstraction:\n",
        "   * Definition: Abstraction is the process of hiding the implementation details of a system and exposing only the essential features or functionality to the user.\n",
        "   * Purpose: To reduce complexity and allow the user to focus on what an object does rather than how it does it.\n",
        " * How It Works:\n",
        "Achieved using abstract classes, interfaces, or methods in programming.\n",
        "For example, when you use a car, you only need to know how to drive it (steering, brakes, accelerator) without worrying about the internal mechanics (engine, transmission, etc.).\n",
        " * Key Idea: \"What to do\" is exposed, but \"how to do it\" is hidden.\n",
        " * Real-World Analogy: A TV remote control hides the internal circuitry and only exposes buttons for the user to interact with.\n",
        " * Encapsulation\n",
        " * Definition: Encapsulation is the process of bundling data (variables) and methods (functions) that operate on the data into a single unit (class) and restricting direct access to some of the object's components.\n",
        "* Purpose: To protect data from unauthorized access and ensure controlled access through getters and setters.\n",
        "* How It Works:\n",
        "Achieved using access modifiers like private, protected, and public.\n",
        "Data is hidden (made private) and accessed only through public methods (getters and setters).\n",
        "* Key Idea: \"How to access\" and \"control access\" to data.\n",
        "Real-World Analogy: A capsule (medicine) wraps the drug inside, protecting it and controlling how it is consumed.\n",
        "* Key Differences:\n",
        "  * Aspect:\tAbstraction\n",
        "  * Focus:\tHiding implementation details (complexity).\n",
        "  * Purpose:\tTo show only essential features to the user.\n",
        "  * Implementation:\tAchieved using abstract classes, interfaces, etc.\n",
        "  * Real-World Example:\tDriving a car without knowing its internal mechanics.\n",
        "  * Aspect: Encapsulation\n",
        "  * Focus: Hiding data and controlling access to it.\n",
        "  * Purpose: To protect data and ensure controlled access.\n",
        "  * Implementation: Achieved using access modifiers (private, public).\n",
        "  * Real-World Example: Medicine capsule protecting the drug inside.\n",
        "\n",
        "* Relationship:\n",
        "  * Encapsulation supports abstraction: By encapsulating data and methods, you can abstract away unnecessary details and expose only what is needed.\n",
        "  * Example: In the BankAccount example, encapsulation (private balance and public methods) helps abstract the internal workings of the account.\n",
        "\n",
        "**5.  What are dunder methods in Python?**\n",
        "   * Dunder methods (short for \"double underscore methods\") in Python, also known as magic methods or special methods, are predefined methods that start and end with double underscores (__). These methods allow you to customize the behavior of Python objects and are commonly used for operator overloading, object initialization, and more.\n",
        "   * Python Magic Methods: Built in classes define many magic methods, dir() function can show you magic methods inherited by a class.\n",
        "   * Example: This code displays the magic methods inherited by int class.\n",
        "      * code: print(dir(int))\n",
        "   * They are also called Dunder methods, Dunder here means \"Double Under (Underscores)\".\n",
        "  * Object Initialization and Representation:\n",
        "     * __init__(self, ...): Called when an object is initialized (constructor).\n",
        "     * __str__(self): Defines the string representation of an object (used by print()).\n",
        "     * __repr__(self): Defines the \"official\" string representation of an object (used in debugging or repr()).\n",
        "  * Operator Overloading:\n",
        "    * __add__(self, other): Defines behavior for the + operator.\n",
        "    * __eq__(self, other): Defines behavior for the == operator.\n",
        "    * Other Arithmetic Operators:\n",
        "\n",
        "      * __sub__(self, other) for -\n",
        "      * __mul__(self, other) for *\n",
        "      * __truediv__(self, other) for /\n",
        "      * __mod__(self, other) for %\n",
        "\n",
        "  * Attribute Access:\n",
        "    * __getattr__(self, name): Called when an attribute is accessed but not found.\n",
        "    * __setattr__(self, name, value): Called when setting an attribute.\n",
        "    * __delattr__(self, name): Called when deleting an attribute.\n",
        "\n",
        " * Container Emulation:\n",
        "   * __getitem__(self, key): Defines behavior for indexing (obj[key]).\n",
        "   * __setitem__(self, key, value): Defines behavior for setting an item (obj[key] = value).\n",
        "   * __delitem__(self, key): Defines behavior for deleting an item (del obj[key]).\n",
        " * Context Managers:\n",
        "   * __enter__(self): Called when entering a with block.\n",
        "   * __exit__(self, exc_type, exc_value, traceback): Called when exiting a with block.\n",
        " * Callable Objects:\n",
        "   * __call__(self, ...): Makes an object callable like a function.\n",
        " * Length, Iteration, and Membership:\n",
        "   * __len__(self): Defines behavior for len().\n",
        "   * __iter__(self): Defines behavior for iteration.\n",
        "   * __contains__(self, item): Defines behavior for in.\n",
        "* Summary:\n",
        "* Dunder methods allow you to:\n",
        "\n",
        "  * Customize object behavior.\n",
        "  * Implement operator overloading.\n",
        "  * Make objects iterable, callable, or context-aware.\n",
        "  * Enhance the readability and functionality of your classes.\n",
        "\n",
        "**6. Explain the concept of inheritance in OOP.**\n",
        "  * Inheritance is one of the core features of object-oriented programming. It’s a programming procedure that allows you to reuse code by referencing the behaviors and data of an object. In other words, a class that inherits from another class shares all the attributes and methods of the referenced class.\n",
        "  * An inherited class is called a subclass or child class of the class it inherits from. And the class being inherited is called either a parent class, superclass, or base class.\n",
        "  * Following are types of inheritance:\n",
        "    * Single inheritance: In single inheritance, one class inherits from only one parent class. This is also called simple inheritance because it’s the simplest type of inheritance you can use.\n",
        "    * Multiple inheritance: In Python and a lot of the other object-oriented programming languages, you can also create a class that inherits from more than one class.\n",
        "    * Hierarchical inheritance:In hierarchical inheritance, child classes all inherit from a single base class. It’s basically the same as single inheritance, except you’re creating more child classes.\n",
        "    * Hybrid inheritance: Hybrid inheritance involves using more than one of the other types of inheritance. When you know inheritance well and work on complex applications, chances are that this is the type of inheritance you will use most often to get the results you want.\n",
        "  * Real-World Analogy:\n",
        "Think of a vehicle as a parent class. A car and a bike are subclasses. Both inherit common properties like \"engine\" and \"wheels\" from the vehicle class but can have their own unique features like \"number of doors\" for cars or \"type of handlebar\" for bikes.\n",
        "\n",
        "**7. What is polymorphism in OOP?**\n",
        "  * Polymorphism means \"many forms\". It refers to the ability of an entity (like a function or object) to perform different actions based on the context.\n",
        "  * Technically, in Python, polymorphism allows same method, function or operator to behave differently depending on object it is working with. This makes code more flexible and reusable.\n",
        "  * Need of Polymorphism:\n",
        "    * Ensures consistent interfaces across different classes.\n",
        "    * Allows objects to respond differently to the same method call.\n",
        "    * Promotes loose coupling by relying on shared behavior, not specific types.\n",
        "    * Enables writing flexible, reusable code that works across types.\n",
        "    * Simplifies testing and future extension of code.\n",
        "  * Example of Polymorphism: A remote control can operate multiple devices like a TV, AC or music system. You press the power button and each device responds differently TV turns on, AC starts cooling, music system plays music.Polymorphism here means same interface (power button), but different behavior based on device (object).\n",
        "  * Types of Polymorphism in Python:\n",
        "    * Method Overriding (Runtime Polymorphism):\n",
        "Achieved when a subclass provides a specific implementation of a method that is already defined in its parent class.\n",
        "The method in the subclass overrides the method in the parent class.\n",
        "    * Method Overloading (Not Natively Supported):\n",
        "Python does not support method overloading directly, but you can achieve similar behavior using default arguments or variable-length arguments (*args and **kwargs).\n",
        "    * Operator Overloading:\n",
        "Python allows operators like +, -, *, etc., to have different meanings based on the operands (e.g., adding numbers vs. concatenating strings).\n",
        "    * Duck Typing:\n",
        "A concept where the type of an object is determined by its behavior (methods and properties) rather than its actual class. If an object behaves like a duck (has a quack() method), it is treated as a duck.\n",
        " * Polymorphism is a cornerstone of OOP and is widely used in Python to make programs more modular and extensible.\n",
        "\n",
        " **8. How is encapsulation achieved in Python?**\n",
        "  * Encapsulation means hiding internal details of a class and only exposing what’s necessary. It helps to protect important data from being changed directly and keeps the code secure and organized.\n",
        " * Technically, encapsulation is an object-oriented programming principle where data (variables) and methods (functions) are bundled together in a class.\n",
        " * Need for Encapsulation:\n",
        "   * Protects data from unauthorized access and accidental modification.\n",
        "   * Controls data updates using getter/setter methods with validation.\n",
        "   * Enhances modularity by hiding internal implementation details.\n",
        "   * Simplifies maintenance through centralized data handling logic.\n",
        "   * Reflects real-world scenarios like restricting direct access to a bank account balance.\n",
        " * Key Concept of ERncapsulation:\n",
        "   * Access Modifiers: Python provides three levels of access control for class members:\n",
        "\n",
        "   * Public Members: Accessible from anywhere (default in Python).\n",
        "   * Protected Members: Indicated by a single underscore (_). These are intended to be accessed only within the class and its subclasses.\n",
        "   * Private Members: Indicated by a double underscore (__). These are not directly accessible outside the class and are name-mangled to prevent accidental access.\n",
        "   * Getter and Setter Methods: Encapsulation often involves using getter and setter methods to control access to private attributes. This ensures that data is accessed or modified in a controlled manner.\n",
        " * Example of Encapsulation:\n",
        "Encapsulation in Python is like having a bank account system where your account balance (data) is kept private. You can't directly change your balance by accessing account database. Instead, bank provides you with methods (functions) like deposit and withdraw to modify your balance safely.\n",
        "   * Private Data (Balance): Your balance is stored securely. Direct access from outside is not allowed, ensuring data is protected from unauthorized changes.\n",
        "   * Public Methods (Deposit and Withdraw): These are the only ways to modify your balance. They check if your requests (like withdrawing money) follow the rules (e.g., you have enough balance) before allowing changes.\n",
        "\n",
        "  **9. What is a constructor in Python?**\n",
        "   * In Python, a constructor is a special method used in object-oriented programming to initialize an object when it is created. It is automatically called when an instance of a class is instantiated. The primary purpose of a constructor is to set up the initial state of the object by assigning values to its attributes or performing any setup tasks.\n",
        "   * Key Points:\n",
        "     * Special Method: The constructor in Python is defined using the __init__ method.\n",
        "     * Automatic Invocation: It is automatically invoked when an object is created.\n",
        "     * Instance Initialization: It is used to initialize the attributes of the class.\n",
        "  * Syntax:\n",
        "  "
      ],
      "metadata": {
        "id": "bUyZ0uneLOKj"
      }
    },
    {
      "cell_type": "code",
      "source": [
        "class ClassName:\n",
        "    def __init__(self, parameters):\n",
        "        # Initialization code\n",
        "        self.attribute = value"
      ],
      "metadata": {
        "id": "Aw4cXN4FKt-d"
      },
      "execution_count": null,
      "outputs": []
    },
    {
      "cell_type": "markdown",
      "source": [
        "* Key Features:\n",
        "   * Default Constructor: If no __init__ method is defined, Python provides a default constructor that does nothing.\n",
        "   * Parameterized Constructor: You can pass arguments to the constructor to initialize attributes.\n",
        "   * Multiple Objects: Each time an object is created, the constructor is called, allowing each object to have its own unique state.\n",
        "   \n",
        "* Notes:\n",
        "   * The constructor is not mandatory; if not defined, Python uses a default one.\n",
        "   * You can also perform additional setup tasks like opening files, initializing connections, etc., in the constructor.\n",
        "\n",
        "   **10. What are class and static methods in Python?**\n",
        "* In Python, class methods and static methods are two types of methods that belong to a class rather than an instance of the class. They are used for different purposes and are defined using specific decorators.\n",
        "\n",
        "* Class Methods:\n",
        "   * Definition: A class method is a method that is bound to the class and not the instance of the class. It can access and modify the class state that applies across all instances of the class.\n",
        "   * Decorator: @classmethod\n",
        "   * First Parameter: The first parameter is always cls, which refers to the class itself (not the instance).\n",
        "* Use Cases:\n",
        "    * When you need to work with class-level data or methods.\n",
        "    * Factory methods that create instances of the class using alternative constructors.\n",
        "* Example:\n",
        "\n",
        "\n"
      ],
      "metadata": {
        "id": "8ZKEeNGmTp7A"
      }
    },
    {
      "cell_type": "code",
      "source": [
        "class MyClass:\n",
        "    class_variable = \"I am a class variable\"\n",
        "\n",
        "    @classmethod\n",
        "    def class_method(cls):\n",
        "        return f\"Accessing: {cls.class_variable}\"\n",
        "# Example usage\n",
        "print(MyClass.class_method())"
      ],
      "metadata": {
        "colab": {
          "base_uri": "https://localhost:8080/"
        },
        "id": "Lvv9k5zJViho",
        "outputId": "a37dc4d3-8824-4bf7-e28f-c06f676fd077"
      },
      "execution_count": null,
      "outputs": [
        {
          "output_type": "stream",
          "name": "stdout",
          "text": [
            "Accessing: I am a class variable\n"
          ]
        }
      ]
    },
    {
      "cell_type": "markdown",
      "source": [
        "* Static Methods\n",
        "   * Definition: A static method is a method that does not depend on the class or instance. It behaves like a regular function but belongs to the class's namespace.\n",
        "   * Decorator: @staticmethod\n",
        "   * First Parameter: It does not take self or cls as its first parameter because it does not operate on the instance or class.\n",
        "* Use Cases:\n",
        "   * When you want to define utility functions that logically belong to the class but do not need access to class or instance data.\n",
        "* Example:"
      ],
      "metadata": {
        "id": "_FRV0AVBWE99"
      }
    },
    {
      "cell_type": "code",
      "source": [
        "class MyClass:\n",
        "    @staticmethod\n",
        "    def static_method(x, y):\n",
        "        return x + y\n",
        "\n",
        "# Usage\n",
        "print(MyClass.static_method(5, 10))"
      ],
      "metadata": {
        "colab": {
          "base_uri": "https://localhost:8080/"
        },
        "id": "Jb1OqFRDWzWM",
        "outputId": "1db4722a-50b0-4df5-ee00-7f8248858b0d"
      },
      "execution_count": null,
      "outputs": [
        {
          "output_type": "stream",
          "name": "stdout",
          "text": [
            "15\n"
          ]
        }
      ]
    },
    {
      "cell_type": "markdown",
      "source": [
        "* Key Differences Between Class and Static Methods:\n",
        "  * Feature: Class Method\n",
        "  * Decorator: @classmethod\n",
        "  * First Parameter: cls (refers to the class)\n",
        "  * Access to Class Data: Yes\n",
        "  * Access to Instance Data: No\n",
        "  * Use Case: Modify or access class-level data\n",
        "  * Feature: Static Method\n",
        "  * Decorator: @staticmethod\n",
        "  * First Parameter: No self or cls parameter\n",
        "  * Access to Class Data: No\n",
        "  * Access to Instance Data: No\n",
        "  * Use Case: Utility functions related to the class\n",
        "* Example Combining Both:"
      ],
      "metadata": {
        "id": "jAqv8jZ7W5nu"
      }
    },
    {
      "cell_type": "code",
      "source": [
        "class Calculator:\n",
        "    factor = 10\n",
        "\n",
        "    @classmethod\n",
        "    def multiply_by_factor(cls, value):\n",
        "        return value * cls.factor\n",
        "\n",
        "    @staticmethod\n",
        "    def add(x, y):\n",
        "        return x + y\n",
        "\n",
        "# Usage\n",
        "print(Calculator.multiply_by_factor(5))\n",
        "print(Calculator.add(3, 7))"
      ],
      "metadata": {
        "colab": {
          "base_uri": "https://localhost:8080/"
        },
        "id": "CZF8aUh8YKC0",
        "outputId": "7d43d22f-cd0f-4662-9b25-9852bbabddc0"
      },
      "execution_count": null,
      "outputs": [
        {
          "output_type": "stream",
          "name": "stdout",
          "text": [
            "50\n",
            "10\n"
          ]
        }
      ]
    },
    {
      "cell_type": "markdown",
      "source": [
        "* In this example:\n",
        "\n",
        "  * multiply_by_factor is a class method that uses the class variable factor.\n",
        "  * add is a static method that performs a simple addition without relying on the class or instance."
      ],
      "metadata": {
        "id": "qvbW7rnxYTUA"
      }
    },
    {
      "cell_type": "markdown",
      "source": [
        "**11. What is method overloading in Python?**\n",
        "* In Python, method overloading refers to the ability to define multiple methods with the same name but different parameters. However, Python does not support traditional method overloading as seen in languages like Java or C++. Instead, Python achieves similar functionality by using default arguments, variable-length arguments, or type checking within a single method.\n",
        "* Key Points:\n",
        "  * No Traditional Overloading: Python does not allow multiple methods with the same name but different parameter lists in the same class. If you define a method with the same name, the latest definition will overwrite the previous one.\n",
        "\n",
        "  * Achieving Overloading:\n",
        "\n",
        "    * Default Arguments: Use default values for parameters to handle different cases.\n",
        "    * Variable-Length Arguments: Use *args and **kwargs to accept a variable number of arguments.\n",
        "    * Type Checking: Use if statements to handle different types of arguments within a single method.\n",
        "* Example 1: Using Default Arguments"
      ],
      "metadata": {
        "id": "1JzOhKe6YczI"
      }
    },
    {
      "cell_type": "code",
      "source": [
        "class Calculator:\n",
        "    def add(self, a, b=0, c=0):\n",
        "        return a + b + c\n",
        "\n",
        "calc = Calculator()\n",
        "print(calc.add(5))\n",
        "print(calc.add(5, 10))\n",
        "print(calc.add(5, 10, 15))\n",
        "#Here, the method add behaves differently based on the number of arguments provided."
      ],
      "metadata": {
        "colab": {
          "base_uri": "https://localhost:8080/"
        },
        "id": "zPePgWvFaXI8",
        "outputId": "7749f1a7-5614-4b0e-e9b4-07bd7e03d411"
      },
      "execution_count": null,
      "outputs": [
        {
          "output_type": "stream",
          "name": "stdout",
          "text": [
            "5\n",
            "15\n",
            "30\n"
          ]
        }
      ]
    },
    {
      "cell_type": "markdown",
      "source": [
        "* Example 2: Using Variable-Length Arguments"
      ],
      "metadata": {
        "id": "kYXkwBsUar2V"
      }
    },
    {
      "cell_type": "code",
      "source": [
        "class Calculator:\n",
        "    def add(self, *args):\n",
        "        return sum(args)\n",
        "\n",
        "calc = Calculator()\n",
        "print(calc.add(5))\n",
        "print(calc.add(5, 10))\n",
        "print(calc.add(5, 10, 15))\n",
        "#The *args allows the method to accept any number of arguments."
      ],
      "metadata": {
        "colab": {
          "base_uri": "https://localhost:8080/"
        },
        "id": "VnoPzlC3ayI6",
        "outputId": "44b27ba9-fd9d-4b1e-ce36-e9b222132e1e"
      },
      "execution_count": null,
      "outputs": [
        {
          "output_type": "stream",
          "name": "stdout",
          "text": [
            "5\n",
            "15\n",
            "30\n"
          ]
        }
      ]
    },
    {
      "cell_type": "markdown",
      "source": [
        "* Example 3: Using Type Checking"
      ],
      "metadata": {
        "id": "yf0dwbUCbF2X"
      }
    },
    {
      "cell_type": "code",
      "source": [
        "class Calculator:\n",
        "    def add(self, a, b):\n",
        "        if isinstance(a, str) and isinstance(b, str):\n",
        "            return a + b  # Concatenate strings\n",
        "        elif isinstance(a, (int, float)) and isinstance(b, (int, float)):\n",
        "            return a + b  # Add numbers\n",
        "        else:\n",
        "            raise TypeError(\"Unsupported types\")\n",
        "\n",
        "calc = Calculator()\n",
        "print(calc.add(5, 10))\n",
        "print(calc.add(\"Hello, \", \"World!\"))\n",
        "#Here, the method behaves differently based on the types of the arguments."
      ],
      "metadata": {
        "colab": {
          "base_uri": "https://localhost:8080/"
        },
        "id": "O09MY2tobkDN",
        "outputId": "430cdafe-49d1-4000-e338-0f0b11fda6c1"
      },
      "execution_count": null,
      "outputs": [
        {
          "output_type": "stream",
          "name": "stdout",
          "text": [
            "15\n",
            "Hello, World!\n"
          ]
        }
      ]
    },
    {
      "cell_type": "markdown",
      "source": [
        "* Python's dynamic typing and flexible function definitions make traditional overloading unnecessary. Instead, Python encourages writing a single method that can handle multiple scenarios using the techniques above."
      ],
      "metadata": {
        "id": "KWCqxmjabuiA"
      }
    },
    {
      "cell_type": "markdown",
      "source": [
        "**12.  What is method overriding in OOP?**\n",
        "   * Method overriding is a feature of object-oriented programming (OOP) that allows a subclass (child class) to provide a specific implementation of a method that is already defined in its superclass (parent class). In Python, this is achieved by defining a method in the child class with the same name and signature as the method in the parent class.\n",
        "\n",
        "   * When a method is overridden, the version of the method in the child class is called instead of the one in the parent class, provided the object is an instance of the child class. This is useful for polymorphism, where the behavior of a method can vary depending on the object that calls it.\n",
        "   * Key Points:\n",
        "     * Same Method Name: The method in the child class must have the same name as the one in the parent class.\n",
        "     * Same Parameters: The method signature (parameters) should match the parent class method.\n",
        "     * Dynamic Dispatch: The method to be executed is determined at runtime based on the type of the object.\n",
        "  *  Method Overriding with Multiple Inheritance:\n",
        "    "
      ],
      "metadata": {
        "id": "qFaRTk_QdUvy"
      }
    },
    {
      "cell_type": "code",
      "source": [
        " # Parent class\n",
        "class Animal:\n",
        "    def speak(self):\n",
        "        return \"Animal makes a sound\"\n",
        "\n",
        "# Child class\n",
        "class Dog(Animal):\n",
        "    # Overriding the speak method\n",
        "    def speak(self):\n",
        "        return \"Dog barks\"\n",
        "\n",
        "class Cat(Animal):\n",
        "    # Overriding the speak method\n",
        "    def speak(self):\n",
        "        return \"Cat meows\"\n",
        "\n",
        "# Instantiate objects\n",
        "animal = Animal()\n",
        "dog = Dog()\n",
        "cat = Cat()\n",
        "\n",
        "# Call the speak method\n",
        "print(animal.speak())\n",
        "print(dog.speak())\n",
        "print(cat.speak())\n"
      ],
      "metadata": {
        "colab": {
          "base_uri": "https://localhost:8080/"
        },
        "id": "-3I76ss9eoQf",
        "outputId": "0f5fe022-2717-433c-9c96-932a12d91567"
      },
      "execution_count": null,
      "outputs": [
        {
          "output_type": "stream",
          "name": "stdout",
          "text": [
            "Animal makes a sound\n",
            "Dog barks\n",
            "Cat meows\n"
          ]
        }
      ]
    },
    {
      "cell_type": "markdown",
      "source": [
        "* Explanation:\n",
        "  * Parent Class (Animal):\n",
        "Defines a generic speak method.\n",
        "  * Child Classes (Dog and Cat):\n",
        "Override the speak method to provide specific implementations.\n",
        "  * Dynamic Dispatch:\n",
        "When speak is called on an object, Python determines at runtime which version of the method to execute based on the object's type.\n",
        "* Using super() to Call Parent Class Method:\n",
        "If you want to call the parent class's method inside the overridden method, you can use the super() function.\n",
        "\n",
        "\n"
      ],
      "metadata": {
        "id": "-7FJjDdLevP4"
      }
    },
    {
      "cell_type": "code",
      "source": [
        "class Animal:\n",
        "    def speak(self):\n",
        "        return \"Animal makes a sound\"\n",
        "\n",
        "class Dog(Animal):\n",
        "    def speak(self):\n",
        "        # Call the parent class's speak method\n",
        "        parent_message = super().speak()\n",
        "        return f\"{parent_message} and Dog barks\"\n",
        "\n",
        "# Instantiate Dog object\n",
        "dog = Dog()\n",
        "print(dog.speak())\n",
        "\n"
      ],
      "metadata": {
        "colab": {
          "base_uri": "https://localhost:8080/"
        },
        "id": "Zy_RvOBFf0NK",
        "outputId": "5bb21310-7d5a-44c6-b32d-47398236a663"
      },
      "execution_count": null,
      "outputs": [
        {
          "output_type": "stream",
          "name": "stdout",
          "text": [
            "Animal makes a sound and Dog barks\n"
          ]
        }
      ]
    },
    {
      "cell_type": "markdown",
      "source": [
        "* Advantages of Method Overriding:\n",
        "  * Polymorphism: Enables different behaviors for the same method name depending on the object type.\n",
        "Code Reusability: Allows extending or modifying the behavior of parent class methods without rewriting them.\n",
        "Flexibility: Makes the code more dynamic and adaptable to changes.\n",
        "\n"
      ],
      "metadata": {
        "id": "cQuZ0si4f4CI"
      }
    },
    {
      "cell_type": "markdown",
      "source": [
        "**13.  What is a property decorator in Python?**\n",
        "  * The @property decorator in Python is a built-in decorator that allows you to define methods in a class that can be accessed like attributes. It provides a pythonic way to implement getters, setters, and deleters for class attributes, without directly exposing the internal implementation. This is particularly useful for encapsulation and data validation in object-oriented programming.\n",
        "  * @property decorator is a built-in decorator in Python which is helpful in defining the properties effortlessly without manually calling the inbuilt function property(). Which is used to return the property attributes of a class from the stated getter, setter and deleter as parameters.\n",
        "  * Key Features of @property:\n",
        "    * Encapsulation: Allows controlled access to private attributes.\n",
        "    * Readability: Enables attribute-like access to methods, making code cleaner and more intuitive.\n",
        "    * Validation: You can add logic to validate or process data when getting or setting an attribute.\n",
        "  * How It Works:\n",
        "The @property decorator is used to define a getter method. You can then use the @<property_name>.setter and @<property_name>.deleter decorators to define corresponding setter and deleter methods.\n",
        "  * Example:"
      ],
      "metadata": {
        "id": "gFWTI7BRgtla"
      }
    },
    {
      "cell_type": "code",
      "source": [
        "class Circle:\n",
        "    def __init__(self, radius):\n",
        "        self._radius = radius  # Private attribute (by convention)\n",
        "\n",
        "    # Getter method for 'radius'\n",
        "    @property\n",
        "    def radius(self):\n",
        "        return self._radius\n",
        "\n",
        "    # Setter method for 'radius'\n",
        "    @radius.setter\n",
        "    def radius(self, value):\n",
        "        if value < 0:\n",
        "            raise ValueError(\"Radius cannot be negative\")\n",
        "        self._radius = value\n",
        "\n",
        "    # Deleter method for 'radius'\n",
        "    @radius.deleter\n",
        "    def radius(self):\n",
        "        print(\"Deleting radius...\")\n",
        "        self._radius = None\n",
        "\n",
        "# Usage\n",
        "circle = Circle(5)\n",
        "\n",
        "# Accessing the radius (getter)\n",
        "print(circle.radius)\n",
        "\n",
        "# Modifying the radius (setter)\n",
        "circle.radius = 10\n",
        "print(circle.radius)\n",
        "\n",
        "# Attempting to set a negative radius (validation)\n",
        "try:\n",
        "    circle.radius = -2\n",
        "except ValueError as e:\n",
        "    print(e)\n",
        "\n",
        "# Deleting the radius (deleter)\n",
        "del circle.radius\n",
        "print(circle.radius)"
      ],
      "metadata": {
        "colab": {
          "base_uri": "https://localhost:8080/"
        },
        "id": "aS---A2jijNI",
        "outputId": "9226d678-7c37-4b85-f5ee-041cdaef54a0"
      },
      "execution_count": null,
      "outputs": [
        {
          "output_type": "stream",
          "name": "stdout",
          "text": [
            "5\n",
            "10\n",
            "Radius cannot be negative\n",
            "Deleting radius...\n",
            "None\n"
          ]
        }
      ]
    },
    {
      "cell_type": "markdown",
      "source": [
        "* Explanation:\n",
        "  * Getter: The @property decorator makes the radius method behave like an attribute. You can access it using circle.radius instead of circle.radius().\n",
        "  * Setter: The @radius.setter decorator allows you to define logic for setting the value of radius. Here, it ensures the radius cannot be negative.\n",
        "  * Deleter: The @radius.deleter decorator defines logic for deleting the radius attribute.\n",
        "* Advantages:\n",
        "  * Simplifies code by avoiding explicit getter and setter method calls.\n",
        "  * Improves encapsulation and data validation.\n",
        "  * Makes the code more readable and maintainable."
      ],
      "metadata": {
        "id": "hUHHox6HioYb"
      }
    },
    {
      "cell_type": "markdown",
      "source": [
        "**14. Why is polymorphism important in OOP?**\n",
        "   * Polymorphism in Python is a core concept of object-oriented programming that allows objects, methods, or functions to take on multiple forms. This flexibility is achieved through Python's dynamic typing and duck typing, enabling developers to write more reusable, maintainable, and extensible code.\n",
        "   * Following are the advantages of Polymorphism:\n",
        "  * Code Reusability and Flexibility:\n",
        "Polymorphism allows developers to write generic code that can operate on objects of different types. For instance, a single function can handle various data types or objects without requiring explicit type checks. This eliminates repetitive code and enhances flexibility.\n",
        "  * Example:"
      ],
      "metadata": {
        "id": "h2xEXVHgjzTp"
      }
    },
    {
      "cell_type": "code",
      "source": [
        "def add(a, b):\n",
        "    return a + b\n",
        "\n",
        "print(add(3, 4)) # Integer addition\n",
        "print(add(\"Hello, \", \"World!\")) # String concatenation\n",
        "print(add([1, 2], [3, 4])) # List concatenation\n",
        "#Here, the add function works seamlessly with integers, strings, and lists, showcasing polymorphism in action."
      ],
      "metadata": {
        "colab": {
          "base_uri": "https://localhost:8080/"
        },
        "id": "DkOdGIkRk1I4",
        "outputId": "be7dd7c4-fc38-471a-9081-d7e9ff812736"
      },
      "execution_count": null,
      "outputs": [
        {
          "output_type": "stream",
          "name": "stdout",
          "text": [
            "7\n",
            "Hello, World!\n",
            "[1, 2, 3, 4]\n"
          ]
        }
      ]
    },
    {
      "cell_type": "markdown",
      "source": [
        "  * Simplified Code Maintenance:Polymorphism reduces the need for complex conditional statements like if-else or switch to handle different object types. Instead, shared behaviors are defined in a parent class, and child classes override them as needed. This makes the code easier to maintain and extend.\n",
        "\n",
        "  * Example:\n",
        "  "
      ],
      "metadata": {
        "id": "qYaR_g1UlCFw"
      }
    },
    {
      "cell_type": "code",
      "source": [
        "class Animal:\n",
        "    def sound(self):\n",
        "        return \"Some generic sound\"\n",
        "\n",
        "class Dog(Animal):\n",
        "    def sound(self):\n",
        "        return \"Bark\"\n",
        "\n",
        "class Cat(Animal):\n",
        "    def sound(self):\n",
        "        return \"Meow\"\n",
        "\n",
        "animals = [Dog(), Cat(), Animal()]\n",
        "for animal in animals:\n",
        "    print(animal.sound())"
      ],
      "metadata": {
        "colab": {
          "base_uri": "https://localhost:8080/"
        },
        "id": "pyKOgGAu09oH",
        "outputId": "bb62a5dd-62be-4b8d-b15b-bd5f3b0a9f26"
      },
      "execution_count": null,
      "outputs": [
        {
          "output_type": "stream",
          "name": "stdout",
          "text": [
            "Bark\n",
            "Meow\n",
            "Some generic sound\n"
          ]
        }
      ]
    },
    {
      "cell_type": "markdown",
      "source": [
        "* Enhanced Extensibility:\n",
        "Polymorphism enables developers to add new functionality without modifying existing code. For example, adding a new class to a system does not require changes to the logic that processes objects of that class, as long as the new class adheres to the shared interface.\n",
        "\n",
        "* Example:"
      ],
      "metadata": {
        "id": "hgBcBxX60_YI"
      }
    },
    {
      "cell_type": "code",
      "source": [
        "class Vehicle:\n",
        "    def start(self):\n",
        "        print(\"Vehicle is starting.\")\n",
        "\n",
        "class Car(Vehicle):\n",
        "    def start(self):\n",
        "        print(\"Car is starting.\")\n",
        "\n",
        "class Plane(Vehicle):\n",
        "    def start(self):\n",
        "        print(\"Plane is starting.\")\n",
        "\n",
        "vehicles = [Car(), Plane()]\n",
        "for vehicle in vehicles:\n",
        "    vehicle.start()"
      ],
      "metadata": {
        "colab": {
          "base_uri": "https://localhost:8080/"
        },
        "id": "aWTmI7rM1qXn",
        "outputId": "9f65877b-2d1b-40c9-d42d-498dbadf9995"
      },
      "execution_count": null,
      "outputs": [
        {
          "output_type": "stream",
          "name": "stdout",
          "text": [
            "Car is starting.\n",
            "Plane is starting.\n"
          ]
        }
      ]
    },
    {
      "cell_type": "markdown",
      "source": [
        "* Improved Readability and Modularity:\n",
        "By allowing objects to share a common interface, polymorphism makes the code more modular and easier to understand. It encapsulates complexity and ensures that each class handles its specific behavior, adhering to the principles of clean code.\n",
        "\n",
        "* Practical Applications:\n",
        "Polymorphism is widely used in frameworks like Django, where a single API can interact with multiple database backends (e.g., SQLite, MySQL, PostgreSQL) without requiring changes to the application logic. This adaptability is a direct result of polymorphism.\n",
        "\n",
        "* In conclusion, polymorphism in Python enhances code reusability, flexibility, and maintainability. It simplifies complex systems by allowing objects to be treated uniformly, making it an indispensable tool for writing scalable and efficient software."
      ],
      "metadata": {
        "id": "DsYZ17ka1xkj"
      }
    },
    {
      "cell_type": "markdown",
      "source": [
        "**15. What is an abstract class in Python?**\n",
        "* An abstract class in Python is a class that serves as a blueprint for other classes. It cannot be instantiated directly and is used to define methods that must be implemented by its subclasses. Abstract classes are a key concept in object-oriented programming (OOP) and help enforce a consistent interface across related classes.\n",
        "* Key Features of Abstract Classes:\n",
        "  * Cannot Be Instantiated: You cannot create an object of an abstract class.\n",
        "  * Abstract Methods: These are methods declared in the abstract class but do not have an implementation. Subclasses must override these methods.\n",
        "  * Optional Concrete Methods: Abstract classes can also have concrete (fully implemented) methods that subclasses inherit.\n",
        "  * Defined Using ABC Module: Abstract classes in Python are created using the ABC (Abstract Base Class) module from the abc library.\n",
        "* How to Create an Abstract Class:\n",
        "  * Import the ABC module.\n",
        "  * Inherit from ABC to define an abstract class.\n",
        "  * Use the @abstractmethod decorator to define abstract methods.\n",
        "* Example:\n",
        "\n",
        "\n"
      ],
      "metadata": {
        "id": "qRzMWhAT2Fb4"
      }
    },
    {
      "cell_type": "code",
      "source": [
        "from abc import ABC, abstractmethod\n",
        "\n",
        "# Define an abstract class\n",
        "class Animal(ABC):\n",
        "    # Abstract method (must be implemented by subclasses)\n",
        "    @abstractmethod\n",
        "    def make_sound(self):\n",
        "        pass\n",
        "\n",
        "    # Concrete method (optional for subclasses to override)\n",
        "    def sleep(self):\n",
        "        print(\"Sleeping...\")\n",
        "\n",
        "# Subclass inheriting from the abstract class\n",
        "class Dog(Animal):\n",
        "    # Implement the abstract method\n",
        "    def make_sound(self):\n",
        "        print(\"Bark!\")\n",
        "\n",
        "class Cat(Animal):\n",
        "    # Implement the abstract method\n",
        "    def make_sound(self):\n",
        "        print(\"Meow!\")\n",
        "\n",
        "# Instantiate subclasses\n",
        "dog = Dog()\n",
        "dog.make_sound()\n",
        "dog.sleep()\n",
        "\n",
        "cat = Cat()\n",
        "cat.make_sound()\n",
        "cat.sleep()\n",
        "\n",
        "# Attempting to instantiate the abstract class will raise an error\n",
        "# animal = Animal()  # TypeError: Can't instantiate abstract class Animal\n"
      ],
      "metadata": {
        "colab": {
          "base_uri": "https://localhost:8080/"
        },
        "id": "KxrGt8cL3rDu",
        "outputId": "7886421f-a3b1-43d7-fa85-5adc5f65d8cb"
      },
      "execution_count": null,
      "outputs": [
        {
          "output_type": "stream",
          "name": "stdout",
          "text": [
            "Bark!\n",
            "Sleeping...\n",
            "Meow!\n",
            "Sleeping...\n"
          ]
        }
      ]
    },
    {
      "cell_type": "markdown",
      "source": [
        "* Key Points:\n",
        "  * Enforces Rules: Abstract classes ensure that all subclasses implement specific methods, providing a consistent interface.\n",
        "  * Flexibility: Subclasses can provide their own implementation of the abstract methods while optionally inheriting concrete methods.\n",
        "  * Error Prevention: Prevents instantiation of incomplete classes that lack required functionality.\n",
        "* Abstract classes are particularly useful when designing large systems where multiple classes share a common interface but have different implementations.\n",
        "\n"
      ],
      "metadata": {
        "id": "eum87zjB4AjF"
      }
    },
    {
      "cell_type": "markdown",
      "source": [
        "**16.  What are the advantages of OOPs?**\n",
        "  * Object-Oriented Programming (OOP) is a programming paradigm that uses the concept of classes and objects to structure software programs. It is widely used in software development due to its numerous benefits.\n",
        "\n",
        "  * Modularity and Reusability:\n",
        " One of the primary advantages of OOP is modularity. OOP allows developers to break down complex systems into smaller, manageable components called objects. Each object represents a specific part of the system and contains both data and methods to manipulate that data. This modular approach makes the codebase easier to understand, create, and maintain.\n",
        " Reusability is another significant benefit of OOP. Through inheritance, classes can inherit properties and methods from other classes, allowing developers to reuse existing code. This not only saves time but also improves code quality by reducing redundancy.\n",
        "\n",
        "* Encapsulation and Data Security:\n",
        "Encapsulation is a core principle of OOP that helps protect data integrity and privacy. By restricting direct access to an object's data and providing controlled access through methods, encapsulation ensures that the internal state of an object cannot be altered unexpectedly. This enhances data security and reduces the risk of data corruption.\n",
        "\n",
        "* Flexibility and Scalability:\n",
        "OOP provides flexibility and scalability by allowing easy addition and modification of features without impacting the entire codebase. This is achieved through polymorphism and inheritance, which enable objects to exhibit different behaviors based on their context.\n",
        "As a result, developers can create adaptable and extensible programs that can handle future changes and requirements more efficiently.\n",
        "\n",
        "\n",
        "* Improved Code Organization and Maintenance:\n",
        "OOP promotes a structured approach to code organization, enhancing collaboration and code readability. By grouping related data and behaviors into classes, OOP makes it easier to locate and understand specific parts of the code.\n",
        "This structured approach also simplifies code maintenance, as changes and bug fixes can be made to specific objects or classes without affecting other parts of the system.\n",
        "\n",
        "* Better Problem Solving and Real-World Modeling:\n",
        "OOP models real-world systems, allowing developers to create intuitive solutions that closely mimic real-world circumstances.\n",
        "This makes it easier to design and implement software that accurately represents the problem domain. Additionally, OOP's modular architecture and encapsulation principles improve the maintainability and scalability of the code, leading to more reliable and stable applications.\n",
        "\n",
        "* In conclusion, OOP offers numerous advantages, including modularity, reusability, encapsulation, flexibility, scalability, improved code organization, and better problem-solving capabilities. These benefits make OOP a powerful and widely adopted programming paradigm in software development."
      ],
      "metadata": {
        "id": "2XCszWtu4Zkd"
      }
    },
    {
      "cell_type": "markdown",
      "source": [
        "**17. What is the difference between a class variable and an instance variable?**\n",
        "* Class variables and instance variables are two types of variables in object-oriented programming, each serving distinct purposes and having unique characteristics.\n",
        "\n",
        "* Instance Variables are tied to a specific object instance of a class. Each object has its own copy of the instance variables, and changes made to these variables in one object do not affect other objects. They are created when an object is instantiated and destroyed when the object is destroyed. These variables are declared without the static keyword and are accessed directly using the object reference.\n",
        "\n",
        "* Example:\n"
      ],
      "metadata": {
        "id": "v4FN28KK6FVB"
      }
    },
    {
      "cell_type": "code",
      "source": [
        "class Example:\n",
        "    def __init__(self, value):\n",
        "        self.instance_var = value # Instance variable\n",
        "\n",
        "obj1 = Example(10)\n",
        "obj2 = Example(20)\n",
        "\n",
        "print(obj1.instance_var) # Output: 10\n",
        "print(obj2.instance_var) # Output: 20"
      ],
      "metadata": {
        "colab": {
          "base_uri": "https://localhost:8080/"
        },
        "id": "1CwzDNv86pmE",
        "outputId": "78eda809-0ace-49c3-fad6-b2edde695427"
      },
      "execution_count": null,
      "outputs": [
        {
          "output_type": "stream",
          "name": "stdout",
          "text": [
            "10\n",
            "20\n"
          ]
        }
      ]
    },
    {
      "cell_type": "markdown",
      "source": [
        "* Class Variables, on the other hand, are shared across all instances of a class. They are declared with the static keyword in some languages (or directly at the class level in Python). Changes made to a class variable by one object are reflected in all other objects. These variables are created when the program starts and destroyed when it ends. They are accessed using the class name or an object reference.\n",
        "\n",
        "* Example:"
      ],
      "metadata": {
        "id": "IhUlv8gA64F6"
      }
    },
    {
      "cell_type": "code",
      "source": [
        "class Example:\n",
        "    class_var = 100 # Class variable\n",
        "\n",
        "obj1 = Example()\n",
        "obj2 = Example()\n",
        "\n",
        "print(obj1.class_var) # Output: 100\n",
        "print(obj2.class_var) # Output: 100\n",
        "\n",
        "Example.class_var = 200 # Modify class variable\n",
        "print(obj1.class_var) # Output: 200\n",
        "print(obj2.class_var) # Output: 200"
      ],
      "metadata": {
        "colab": {
          "base_uri": "https://localhost:8080/"
        },
        "id": "6cQKHpTL7FRE",
        "outputId": "2c53a1ec-6d0c-4240-8de2-e1e72d607f07"
      },
      "execution_count": null,
      "outputs": [
        {
          "output_type": "stream",
          "name": "stdout",
          "text": [
            "100\n",
            "100\n",
            "200\n",
            "200\n"
          ]
        }
      ]
    },
    {
      "cell_type": "markdown",
      "source": [
        "* Key differences include:\n",
        "\n",
        "  * Instance variables are unique to each object, while class variables are shared among all objects.\n",
        "\n",
        "  * Instance variables are created when an object is instantiated, whereas class variables exist as long as the program runs.\n",
        "\n",
        "  * Changes to instance variables do not affect other objects, but changes to class variables are reflected across all instances.\n",
        "\n",
        "  * Understanding these differences is crucial for designing classes and managing data effectively in object-oriented programming.\n",
        "\n",
        "**18. What is multiple inheritance in Python?**\n",
        "   * Multiple inheritance in Python is a feature that allows a class to inherit attributes and methods from more than one parent class. This means a single child class can derive functionality from multiple superclasses.\n",
        "   * Syntax:"
      ],
      "metadata": {
        "id": "MHvEb0Fv7S6T"
      }
    },
    {
      "cell_type": "code",
      "source": [
        "class Parent1:\n",
        "    # Parent1 class definition\n",
        "    pass\n",
        "\n",
        "class Parent2:\n",
        "    # Parent2 class definition\n",
        "    pass\n",
        "\n",
        "class Child(Parent1, Parent2):\n",
        "    # Child class inherits from both Parent1 and Parent2\n",
        "    pass"
      ],
      "metadata": {
        "id": "w9nUGeZC8udk"
      },
      "execution_count": null,
      "outputs": []
    },
    {
      "cell_type": "markdown",
      "source": [
        "* Key Points:\n",
        "  * Inheritance Order: The child class inherits attributes and methods from the parent classes in the order they are listed.\n",
        "  * Method Resolution Order (MRO): Python uses the C3 Linearization Algorithm to determine the order in which classes are searched for a method or attribute. You can view the MRO using the ClassName.__mro__ or help(ClassName).\n",
        "* Example:"
      ],
      "metadata": {
        "id": "uYtQJPHv8xFh"
      }
    },
    {
      "cell_type": "code",
      "source": [
        "class Parent1:\n",
        "    def greet(self):\n",
        "        print(\"Hello from Parent1\")\n",
        "\n",
        "class Parent2:\n",
        "    def greet(self):\n",
        "        print(\"Hello from Parent2\")\n",
        "\n",
        "class Child(Parent1, Parent2):\n",
        "    def greet_child(self):\n",
        "        print(\"Hello from Child\")\n",
        "\n",
        "# Create an instance of Child\n",
        "child = Child()\n",
        "\n",
        "# Call methods\n",
        "child.greet_child()\n",
        "child.greet()"
      ],
      "metadata": {
        "colab": {
          "base_uri": "https://localhost:8080/"
        },
        "id": "TrJqpN9q-PbK",
        "outputId": "a559f47f-67c2-4eb0-c4f1-8f7a3d5f3a57"
      },
      "execution_count": null,
      "outputs": [
        {
          "output_type": "stream",
          "name": "stdout",
          "text": [
            "Hello from Child\n",
            "Hello from Parent1\n"
          ]
        }
      ]
    },
    {
      "cell_type": "markdown",
      "source": [
        "* Explanation:\n",
        "  * The Child class inherits from both Parent1 and Parent2.\n",
        "  * When child.greet() is called, Python searches for the greet method in the Child class first, then in Parent1, and finally in Parent2 (based on the MRO).\n",
        "* Advantages:\n",
        "  * Code Reusability: You can reuse functionality from multiple classes.\n",
        "  * Flexibility: Allows combining features from different classes.\n",
        "* Challenges:\n",
        "  * Ambiguity: If multiple parent classes have methods with the same name, it can lead to confusion about which method will be called.\n",
        "  * Complexity: Managing dependencies and relationships between multiple classes can become difficult in large projects.\n",
        "* MRO Example:\n",
        "* You can check the MRO of a class using:"
      ],
      "metadata": {
        "id": "j0xIbn-2-b_H"
      }
    },
    {
      "cell_type": "code",
      "source": [
        "print(Child.__mro__)"
      ],
      "metadata": {
        "colab": {
          "base_uri": "https://localhost:8080/"
        },
        "id": "hqjsORIL_JD4",
        "outputId": "e3fdbc8f-056e-406a-bb53-82926833c2b6"
      },
      "execution_count": null,
      "outputs": [
        {
          "output_type": "stream",
          "name": "stdout",
          "text": [
            "(<class '__main__.Child'>, <class '__main__.Parent1'>, <class '__main__.Parent2'>, <class 'object'>)\n"
          ]
        }
      ]
    },
    {
      "cell_type": "markdown",
      "source": [
        "This shows the order in which Python searches for methods or attributes.\n",
        "\n",
        "**19. Explain the purpose of '_ _str_ _ 'and '_ _repr_ _' methods in Python.**\n",
        " * In Python, the _ _str_ _ and __repr_ _ methods are special methods (also called dunder methods) that define how objects of a class are represented as strings. They are particularly useful for debugging, logging, and providing meaningful string representations of objects.\n",
        " * _ _str_ _ Method:\n",
        "   * Purpose: Provides a human-readable string representation of an object.\n",
        "   * Use Case: When you want to display an object in a way that is easy to understand for end-users.\n",
        "   * Triggered By:\n",
        "     * The str() function.\n",
        "     * The print() function.\n",
        "     * String interpolation (e.g., f\"{obj}\").\n",
        "\n",
        "* _ _repr_ _ Method:\n",
        "  * Purpose: Provides a developer-friendly string representation of an object.\n",
        "  * Use Case: When debugging or logging, to show a detailed or unambiguous representation of the object.\n",
        "  * Triggered By:\n",
        "    * The repr() function.\n",
        "    *  Interactive Python shell (e.g., typing the object name in the REPL).\n",
        "    * Default fallback if _ _str_ _ is not defined.\n",
        "\n",
        "* Key Differences Between _ _str_ _ and _ _repr_ _\n",
        "   * Feature: _ _str_ _\n",
        "   * Audience: End-users (human-readable)\n",
        "   * Goal: Easy to understand\n",
        "   * Fallback: If _ _str_ _ is not defined, Python falls back to _ _repr_ _.\n",
        "   * Feature: _ _repr_ _\n",
        "   * Audience: Developers (debugging/logging)\n",
        "   * Goal: Unambiguous and detailed\n",
        "   * Fallback: No fallback; uses default object representation if not defined.\n",
        "* Best Practices:\n",
        "  * Define both methods if your class will be used in contexts where both human-readable and developer-friendly representations are needed.\n",
        "  * Make __repr__ unambiguous and ideally return a string that could recreate the object (if possible).\n",
        "  * Make __str__ concise and user-friendly for display purposes.\n",
        "\n",
        "* By defining both methods, you ensure your objects are represented appropriately in different contexts.\n",
        "\n"
      ],
      "metadata": {
        "id": "iR_qMSIc_MAb"
      }
    },
    {
      "cell_type": "markdown",
      "source": [
        "**20. What is the significance of the ‘super()’ function in Python?**\n",
        "  * In Python, the super() function is a powerful tool that plays a crucial role in object - oriented programming, especially when dealing with inheritance. Inheritance allows classes to inherit attributes and methods from other classes. The super() function provides a way to call methods in a parent class from a subclass, which simplifies the process of method overriding and promotes code reusability and maintainability.\n",
        "  * Example: Single Inheritance with super():\n",
        "\n"
      ],
      "metadata": {
        "id": "Yrl_brxEGf1q"
      }
    },
    {
      "cell_type": "code",
      "source": [
        "class Parent:\n",
        "    def __init__(self, name):\n",
        "        self.name = name\n",
        "        print(f\"Parent initialized with name: {self.name}\")\n",
        "\n",
        "class Child(Parent):\n",
        "    def __init__(self, name, age):\n",
        "        super().__init__(name) # Call Parent's __init__\n",
        "        self.age = age\n",
        "        print(f\"Child initialized with age: {self.age}\")\n",
        "\n",
        "# Usage\n",
        "child = Child(\"Alice\", 10)"
      ],
      "metadata": {
        "colab": {
          "base_uri": "https://localhost:8080/"
        },
        "id": "vOkQCQgNHrhf",
        "outputId": "ba513d29-7c2c-42b1-d1e9-0b3bef7c2edc"
      },
      "execution_count": null,
      "outputs": [
        {
          "output_type": "stream",
          "name": "stdout",
          "text": [
            "Parent initialized with name: Alice\n",
            "Child initialized with age: 10\n"
          ]
        }
      ]
    },
    {
      "cell_type": "markdown",
      "source": [
        "* Key Features of super():\n",
        "\n",
        "  * Avoid Explicit Parent Class Name: You don't need to hardcode the parent class name, making your code more maintainable.\n",
        "\n",
        "  * Supports Multiple Inheritance: It works seamlessly with Python's Method Resolution Order (MRO) to determine the correct method to call.\n",
        "* Example: Multiple Inheritance with super():"
      ],
      "metadata": {
        "id": "OPkIJiR3H4sb"
      }
    },
    {
      "cell_type": "code",
      "source": [
        "class A:\n",
        "    def __init__(self):\n",
        "        print(\"A's constructor called\")\n",
        "\n",
        "class B(A):\n",
        "    def __init__(self):\n",
        "        super().__init__()\n",
        "        print(\"B's constructor called\")\n",
        "\n",
        "class C(B):\n",
        "    def __init__(self):\n",
        "        super().__init__()\n",
        "        print(\"C's constructor called\")\n",
        "\n",
        "# Usage\n",
        "c = C()"
      ],
      "metadata": {
        "colab": {
          "base_uri": "https://localhost:8080/"
        },
        "id": "5ngMb-VwIQzR",
        "outputId": "0fcd3279-46d3-4338-90c5-937ca6432301"
      },
      "execution_count": null,
      "outputs": [
        {
          "output_type": "stream",
          "name": "stdout",
          "text": [
            "A's constructor called\n",
            "B's constructor called\n",
            "C's constructor called\n"
          ]
        }
      ]
    },
    {
      "cell_type": "markdown",
      "source": [
        "* Considerations:\n",
        "\n",
        "  * Method Resolution Order (MRO): The order in which methods are resolved can be inspected using ClassName.__mro__.\n",
        "\n",
        "  * Dynamic Behavior: super() dynamically determines the next class in the MRO, making it flexible for complex inheritance hierarchies.\n",
        "\n",
        "  * By using super(), you can write cleaner and more modular code while leveraging Python's powerful inheritance model.\n",
        "\n",
        "  **21. What is the significance of the _ _del_ _ method in Python?**\n",
        " * The _ _del_ _ method in Python is a special method, also known as a destructor, that is called when an object is about to be destroyed. Its primary purpose is to allow you to define cleanup actions, such as releasing resources (e.g., closing files, releasing locks, or closing network connections) when the object is garbage collected.\n",
        " * One of the main purposes of the _ _del_ _ method is to ensure that resources are released appropriately when an object is no longer in use. This includes closing files, network connections, or releasing memory allocated to the object. While Python’s garbage collector automatically handles most memory management, _ _del_ _ provides a way to perform specific clean-up tasks.\n",
        " * Key Points About _ _del_ _:\n",
        "   * Automatic Invocation:\n",
        "The _ _del_ _ method is automatically invoked by Python's garbage collector when the object is no longer referenced (i.e., when its reference count drops to zero).\n",
        "   * Resource Cleanup:\n",
        "It is commonly used to clean up non-memory resources like file handles, database connections, or sockets.\n",
        "   * Unpredictable Timing:\n",
        "The exact timing of when _ _del_ _ is called is unpredictable because it depends on when the garbage collector decides to destroy the object. This makes it unreliable for critical cleanup tasks.\n",
        "   * Circular References:\n",
        "If an object is part of a circular reference, the garbage collector may not call _ _del_ _ because the reference count never reaches zero.\n",
        "   * Best Practices:\n",
        "It is generally recommended to avoid relying on _ _del_ _ for resource management. Instead, use context managers (via the with statement) or explicit cleanup methods.\n",
        "* Example of _ _del_ _ Usage:\n",
        "\n"
      ],
      "metadata": {
        "id": "S-yoWRM7INFN"
      }
    },
    {
      "cell_type": "code",
      "source": [
        "class FileHandler:\n",
        "    def __init__(self, file_name):\n",
        "        self.file_name = file_name\n",
        "        self.file = open(file_name, 'w')\n",
        "        print(f\"File '{self.file_name}' opened.\")\n",
        "\n",
        "    def write(self, data):\n",
        "        self.file.write(data)\n",
        "\n",
        "    def __del__(self):\n",
        "        # Cleanup action: Close the file\n",
        "        if self.file:\n",
        "            self.file.close()\n",
        "            print(f\"File '{self.file_name}' closed.\")\n",
        "\n",
        "# Example usage\n",
        "handler = FileHandler(\"example.txt\")\n",
        "handler.write(\"Hello, World!\")\n",
        "# When the object is no longer referenced, __del__ is called automatically\n",
        "del handler  # Explicitly deleting the object"
      ],
      "metadata": {
        "colab": {
          "base_uri": "https://localhost:8080/"
        },
        "id": "iFoaYld_XJJe",
        "outputId": "19e93def-dbe2-4791-8078-d2d9a205b952"
      },
      "execution_count": null,
      "outputs": [
        {
          "output_type": "stream",
          "name": "stdout",
          "text": [
            "File 'example.txt' opened.\n",
            "File 'example.txt' closed.\n"
          ]
        }
      ]
    },
    {
      "cell_type": "markdown",
      "source": [
        "* The __del__ method in Python serves as a destructor, allowing developers to define clean-up behavior when an object is about to be destroyed. This can be particularly important for resource management, ensuring that files, network connections, or other resources are released appropriately. While powerful, it is crucial to be aware of its limitations, such as potential issues with circular references and exception handling. Properly implementing the __del__ method can contribute to the robustness and reliability of your Python applications.\n",
        "\n",
        "**22. What is the difference between @staticmethod and @classmethod in Python?**\n",
        "   * In Python, @staticmethod and @classmethod are decorators used to define methods in a class that behave differently from regular instance methods. Here's a detailed comparison:\n",
        "   *  @staticmethod:\n",
        "      * Definition: A staticmethod is a method that does not depend on the instance (self) or the class (cls) it is called on.\n",
        "      * Purpose: It is used when the method does not need to access or modify the class or instance state.\n",
        "      * How to Define:\n",
        " Use the @staticmethod decorator.\n",
        "No self or cls parameter is passed to the method.\n",
        "      * How to Call: Can be called using the class name or an instance of the class.\n",
        "      * Key Point: A staticmethod is just a function that happens to be defined inside a class for organizational purposes. It does not interact with the class or its instances.\n",
        "  * @classmethod:\n",
        "    * Definition: A classmethod is a method that operates on the class itself rather than an instance of the class.\n",
        "    * Purpose: It is used when the method needs to access or modify the class state or create instances of the class.\n",
        "    * How to Define:Use the @classmethod decorator.The first parameter must be cls, which refers to the class itself.\n",
        "    * How to Call:\n",
        "Can be called using the class name or an instance of the class.\n",
        "    * Key Point: A classmethod has access to the class (cls) and can modify class-level attributes or create new instances of the class.\n",
        "* Key Differences:\n",
        "    * Feature: @staticmethod\n",
        "    * Access to self: No\n",
        "    * Access to cls: No\n",
        "    * Purpose: General utility methods that don’t need access to class or instance data.\n",
        "    * Use Case: Utility functions, e.g., calculations, formatting, etc.\n",
        "    * Feature: @classmethod\n",
        "    * Access to self: No\n",
        "    * Access to cls: Yes\n",
        "    * Purpose: Methods that need to interact with the class itself.\n",
        "    * Use Case: Factory methods, class-level operations, etc.\n",
        "* When to Use:\n",
        "   * Use @staticmethod when the method does not need to know anything about the class or its instances.\n",
        "  * Use @classmethod when the method needs to interact with the class (e.g., modifying class variables, creating instances, etc.).\n",
        "\n",
        "**23. How does polymorphism work in Python with inheritance?**\n",
        "  * Polymorphism in Python allows objects of different classes to be treated as objects of a common superclass. It enables a single interface to represent different underlying forms (data types). When combined with inheritance, polymorphism allows child classes to override or extend the behavior of methods defined in a parent class, enabling dynamic method resolution at runtime.\n",
        "  * Key Concepts of Polymorphism with Inheritance in Python:\n",
        "    * Method Overriding: A child class can provide its own implementation of a method that is already defined in the parent class.\n",
        "    * Dynamic Method Resolution: At runtime, the method that matches the object type is executed, even if the object is referenced by a parent class type.\n",
        "    * Code Reusability: Polymorphism allows writing more generic and reusable code.\n",
        "* Example: Polymorphism with Inheritance"
      ],
      "metadata": {
        "id": "y04Yofb8X6fP"
      }
    },
    {
      "cell_type": "code",
      "source": [
        "# Parent class\n",
        "class Animal:\n",
        "    def speak(self):\n",
        "        return \"I make a sound\"\n",
        "\n",
        "# Child class 1\n",
        "class Dog(Animal):\n",
        "    def speak(self):\n",
        "        return \"Woof! Woof!\"\n",
        "\n",
        "# Child class 2\n",
        "class Cat(Animal):\n",
        "    def speak(self):\n",
        "        return \"Meow! Meow!\"\n",
        "\n",
        "# Child class 3\n",
        "class Cow(Animal):\n",
        "    def speak(self):\n",
        "        return \"Moo! Moo!\"\n",
        "\n",
        "# Function demonstrating polymorphism\n",
        "def animal_sound(animal):\n",
        "    # Calls the speak method of the object passed\n",
        "    print(animal.speak())\n",
        "\n",
        "# Create objects of different child classes\n",
        "dog = Dog()\n",
        "cat = Cat()\n",
        "cow = Cow()\n",
        "\n",
        "# Pass objects to the function\n",
        "animal_sound(dog)\n",
        "animal_sound(cat)\n",
        "animal_sound(cow)"
      ],
      "metadata": {
        "colab": {
          "base_uri": "https://localhost:8080/"
        },
        "id": "c7UpYF-Le4S1",
        "outputId": "30486290-f3e1-4478-b188-867b80ce76a3"
      },
      "execution_count": null,
      "outputs": [
        {
          "output_type": "stream",
          "name": "stdout",
          "text": [
            "Woof! Woof!\n",
            "Meow! Meow!\n",
            "Moo! Moo!\n"
          ]
        }
      ]
    },
    {
      "cell_type": "markdown",
      "source": [
        "* Explanation:\n",
        "  * Inheritance: The Dog, Cat, and Cow classes inherit from the Animal class.\n",
        "  * Method Overriding: Each child class overrides the speak method to provide its own implementation.\n",
        "  * Polymorphism: The animal_sound function accepts an object of type Animal but dynamically resolves the speak method based on the actual object type (e.g., Dog, Cat, or Cow).\n",
        "* Benefits of Polymorphism with Inheritance:\n",
        "  * Flexibility: You can write functions or methods that work with objects of different types.\n",
        "  * Extensibility: New child classes can be added without modifying existing code.\n",
        "  * Readability: Code is cleaner and easier to understand.\n",
        "* Real-World Analogy:\n",
        "Imagine a Vehicle class with a move method. A Car moves on roads, a Boat moves on water, and a Plane moves in the air. Polymorphism allows you to call the move method on any Vehicle object, and the appropriate behavior is executed based on the actual type of the object.\n",
        "\n",
        "**24. What is method chaining in Python OOP?**\n",
        "  * Method chaining is a programming technique where multiple methods are called on the same object in a single statement. This is achieved by having each method return the object itself (usually self), allowing the next method in the chain to be invoked on the same object.\n",
        " * This technique is commonly used to make code more concise and readable, especially when performing a sequence of operations on an object.\n",
        " * Key Features of Method Chaining:\n",
        "   * Fluent Interface: It provides a \"fluent\" interface, making the code look like a natural sequence of operations.\n",
        "   * Returns self: Each method in the chain must return the object (self) to allow further chaining.\n",
        "   * Improves Readability: Reduces the need for intermediate variables and makes the code more compact.\n",
        "* Example of Method Chaining in Python OOP:\n",
        "Here’s an example of how method chaining can be implemented in a Python class:"
      ],
      "metadata": {
        "id": "E_yF8_MwfHbk"
      }
    },
    {
      "cell_type": "code",
      "source": [
        "class Calculator:\n",
        "    def __init__(self, value=0):\n",
        "        self.value = value\n",
        "\n",
        "    def add(self, num):\n",
        "        self.value += num\n",
        "        return self  # Return the object itself for chaining\n",
        "\n",
        "    def subtract(self, num):\n",
        "        self.value -= num\n",
        "        return self  # Return the object itself for chaining\n",
        "\n",
        "    def multiply(self, num):\n",
        "        self.value *= num\n",
        "        return self  # Return the object itself for chaining\n",
        "\n",
        "    def divide(self, num):\n",
        "        if num == 0:\n",
        "            print(\"Error: Division by zero is not allowed.\")\n",
        "            return self\n",
        "        self.value /= num\n",
        "        return self  # Return the object itself for chaining\n",
        "\n",
        "    def result(self):\n",
        "        return self.value  # Return the final result (not for chaining)\n",
        "\n",
        "# Example usage\n",
        "calc = Calculator()\n",
        "final_result = calc.add(10).subtract(2).multiply(3).divide(4).result()\n",
        "print(\"Final Result:\", final_result)"
      ],
      "metadata": {
        "colab": {
          "base_uri": "https://localhost:8080/"
        },
        "id": "9an-aH5RjAwH",
        "outputId": "d8094b8a-6646-4798-ad30-a70eb134e937"
      },
      "execution_count": null,
      "outputs": [
        {
          "output_type": "stream",
          "name": "stdout",
          "text": [
            "Final Result: 6.0\n"
          ]
        }
      ]
    },
    {
      "cell_type": "markdown",
      "source": [
        "* Explanation of the Code:\n",
        "  * Class Definition: The Calculator class has methods for basic arithmetic operations (add, subtract, multiply, divide).\n",
        "  * Returning self: Each method (except result) returns self, enabling method chaining.\n",
        "  * Chaining Operations: The operations are chained together in a single statement: calc.add(10).subtract(2).multiply(3).divide(4).\n",
        "  * Final Result: The result() method is used to retrieve the final computed value.\n",
        "* Benefits of Method Chaining:\n",
        "   * Compact Code: Reduces the need for intermediate variables.\n",
        "   * Improved Readability: Makes the sequence of operations easier to follow.\n",
        "   * Fluent API Design: Often used in libraries and frameworks to provide a clean and intuitive interface (e.g., Pandas, SQLAlchemy).\n",
        "* Method chaining is a powerful tool when used appropriately, especially in object-oriented programming.\n",
        "\n",
        "**25. What is the purpose of the _ _call_ _ method in Python?**\n",
        "  * The _ _call_ _ method in Python is a special method that allows an instance of a class to be called as if it were a function. When you define the _ _call_ _ method in a class, you can use the class's instances like callable objects (functions). This can be useful for creating objects that encapsulate behavior and can be invoked directly.\n",
        " * Purpose of _ _call_ _:\n",
        "   * Callable Instances: It enables instances of a class to behave like functions. When you call an instance, Python internally invokes the _ _call_ _ method.\n",
        "   * Encapsulation of Behavior: It allows you to encapsulate functionality within an object while maintaining a clean and intuitive interface.\n",
        "   * Improved Readability: Using callable instances can make code more readable and expressive, especially when the object represents an action or operation.\n",
        "   * Syntax:\n",
        "   \n"
      ],
      "metadata": {
        "id": "riTyhuB_jKME"
      }
    },
    {
      "cell_type": "code",
      "source": [
        "class MyClass:\n",
        "    def __call__(self, *args, **kwargs):\n",
        "        # Define behavior when the instance is called\n",
        "        print(\"Instance called with arguments:\", args, kwargs)"
      ],
      "metadata": {
        "id": "LIA11R0arPsj"
      },
      "execution_count": null,
      "outputs": []
    },
    {
      "cell_type": "markdown",
      "source": [
        "* Use Cases:\n",
        "  * Function-like Objects: When you want an object to behave like a function but also maintain state.\n",
        "  * Decorators: Callable instances can be used as decorators to modify the behavior of functions or methods.\n",
        "  * Custom Behavior: For creating objects that encapsulate complex logic and can be invoked directly.\n",
        "* Key Points:\n",
        "  * The _ _call_ _ method is triggered when an instance is called using parentheses.\n",
        "  * It can accept any number of arguments (*args, **kwargs), just like a regular function.\n",
        "  * Instances with _ _call_ _ defined are considered callable (you can check this using callable(instance)).\n",
        "* Example of a Practical Use Case:"
      ],
      "metadata": {
        "id": "601GpFCwrT8_"
      }
    },
    {
      "cell_type": "code",
      "source": [
        "class Logger:\n",
        "    def __init__(self, prefix):\n",
        "        self.prefix = prefix\n",
        "\n",
        "    def __call__(self, message):\n",
        "        print(f\"{self.prefix}: {message}\")\n",
        "\n",
        "# Create a logger instance\n",
        "info_logger = Logger(\"INFO\")\n",
        "error_logger = Logger(\"ERROR\")\n",
        "\n",
        "# Use the logger instances as callable objects\n",
        "info_logger(\"This is an informational message.\")\n",
        "error_logger(\"This is an error message.\")"
      ],
      "metadata": {
        "colab": {
          "base_uri": "https://localhost:8080/"
        },
        "id": "OdcNsuKZr_LW",
        "outputId": "67c25650-e241-455c-e21e-d920a71ff686"
      },
      "execution_count": null,
      "outputs": [
        {
          "output_type": "stream",
          "name": "stdout",
          "text": [
            "INFO: This is an informational message.\n",
            "ERROR: This is an error message.\n"
          ]
        }
      ]
    },
    {
      "cell_type": "markdown",
      "source": [
        "* In summary, the _ _call_ _ method is a powerful feature in Python that allows you to create callable objects, making your code more flexible and expressive.\n"
      ],
      "metadata": {
        "id": "rDpUVVeVsPeB"
      }
    },
    {
      "cell_type": "markdown",
      "source": [
        "# **Practical Questions**"
      ],
      "metadata": {
        "id": "XdW2qEBiXxb4"
      }
    },
    {
      "cell_type": "code",
      "source": [
        "# 1. Create a parent class Animal with a method speak() that prints a generic message. Create a child class Dog\n",
        "#that overrides the speak() method to print \"Bark!\"\n",
        "# Parent class Animal\n",
        "class Animal:\n",
        "    def speak(self):\n",
        "        \"\"\"Generic method to print a message for any animal.\"\"\"\n",
        "        print(\"This is a generic animal sound.\")\n",
        "\n",
        "# Child class Dog inheriting from Animal\n",
        "class Dog(Animal):\n",
        "    def speak(self):\n",
        "        \"\"\"Overrides the speak method to provide a specific sound for dogs.\"\"\"\n",
        "        print(\"Bark!\")\n",
        "\n",
        "# Example usage\n",
        "if __name__ == \"__main__\":\n",
        "    # Create an instance of the parent class\n",
        "    generic_animal = Animal()\n",
        "    generic_animal.speak()\n",
        "    # Create an instance of the child class\n",
        "    dog = Dog()\n",
        "    dog.speak()"
      ],
      "metadata": {
        "colab": {
          "base_uri": "https://localhost:8080/"
        },
        "id": "25UGViCUX40x",
        "outputId": "412628a8-a916-40f1-ddc8-87fd052555ff"
      },
      "execution_count": null,
      "outputs": [
        {
          "output_type": "stream",
          "name": "stdout",
          "text": [
            "This is a generic animal sound.\n",
            "Bark!\n"
          ]
        }
      ]
    },
    {
      "cell_type": "code",
      "source": [
        "#2. Write a program to create an abstract class Shape with a method area(). Derive classes Circle and Rectangle from it and implement the area() method in both.\n",
        "from abc import ABC, abstractmethod\n",
        "import math\n",
        "\n",
        "# Abstract class Shape\n",
        "class Shape(ABC):\n",
        "    @abstractmethod\n",
        "    def area(self):\n",
        "        \"\"\"Abstract method to calculate the area of a shape.\"\"\"\n",
        "        pass\n",
        "\n",
        "# Derived class Circle\n",
        "class Circle(Shape):\n",
        "    def __init__(self, radius):\n",
        "        if radius <= 0:\n",
        "            raise ValueError(\"Radius must be a positive number.\")\n",
        "        self.radius = radius\n",
        "\n",
        "    def area(self):\n",
        "        \"\"\"Calculate the area of the circle.\"\"\"\n",
        "        return math.pi * self.radius ** 2\n",
        "\n",
        "# Derived class Rectangle\n",
        "class Rectangle(Shape):\n",
        "    def __init__(self, length, width):\n",
        "        if length <= 0 or width <= 0:\n",
        "            raise ValueError(\"Length and width must be positive numbers.\")\n",
        "        self.length = length\n",
        "        self.width = width\n",
        "\n",
        "    def area(self):\n",
        "        \"\"\"Calculate the area of the rectangle.\"\"\"\n",
        "        return self.length * self.width\n",
        "\n",
        "# Main function to demonstrate functionality\n",
        "def main():\n",
        "    try:\n",
        "        # Create a Circle object\n",
        "        circle = Circle(5)  # Radius = 5\n",
        "        print(f\"Area of the circle with radius {circle.radius}: {circle.area():.2f}\")\n",
        "\n",
        "        # Create a Rectangle object\n",
        "        rectangle = Rectangle(4, 6)  # Length = 4, Width = 6\n",
        "        print(f\"Area of the rectangle with length {rectangle.length} and width {rectangle.width}: {rectangle.area():.2f}\")\n",
        "\n",
        "    except ValueError as e:\n",
        "        print(f\"Error: {e}\")\n",
        "\n",
        "if __name__ == \"__main__\":\n",
        "    main()"
      ],
      "metadata": {
        "colab": {
          "base_uri": "https://localhost:8080/"
        },
        "id": "RQ323W6IbAoW",
        "outputId": "fe7cbd56-6ec6-4953-83eb-40dc4024a46d"
      },
      "execution_count": null,
      "outputs": [
        {
          "output_type": "stream",
          "name": "stdout",
          "text": [
            "Area of the circle with radius 5: 78.54\n",
            "Area of the rectangle with length 4 and width 6: 24.00\n"
          ]
        }
      ]
    },
    {
      "cell_type": "code",
      "source": [
        "# 3. Implement a multi-level inheritance scenario where a class Vehicle has an attribute type. Derive a class Car and further derive a class ElectricCar that adds a battery attribute.\n",
        "# Base class: Vehicle\n",
        "class Vehicle:\n",
        "    def __init__(self, vehicle_type):\n",
        "        self.type = vehicle_type  # Attribute to store the type of vehicle\n",
        "\n",
        "    def display_info(self):\n",
        "        print(f\"Vehicle Type: {self.type}\")\n",
        "\n",
        "\n",
        "# Derived class: Car (inherits from Vehicle)\n",
        "class Car(Vehicle):\n",
        "    def __init__(self, vehicle_type, brand, model):\n",
        "        super().__init__(vehicle_type)  # Initialize the base class\n",
        "        self.brand = brand  # Attribute to store the car's brand\n",
        "        self.model = model  # Attribute to store the car's model\n",
        "\n",
        "    def display_info(self):\n",
        "        super().display_info()  # Call the base class method\n",
        "        print(f\"Car Brand: {self.brand}\")\n",
        "        print(f\"Car Model: {self.model}\")\n",
        "\n",
        "\n",
        "# Further derived class: ElectricCar (inherits from Car)\n",
        "class ElectricCar(Car):\n",
        "    def __init__(self, vehicle_type, brand, model, battery_capacity):\n",
        "        super().__init__(vehicle_type, brand, model)  # Initialize the parent class\n",
        "        self.battery_capacity = battery_capacity  # Attribute to store battery capacity\n",
        "\n",
        "    def display_info(self):\n",
        "        super().display_info()  # Call the parent class method\n",
        "        print(f\"Battery Capacity: {self.battery_capacity} kWh\")\n",
        "\n",
        "\n",
        "# Example usage\n",
        "if __name__ == \"__main__\":\n",
        "    # Create an ElectricCar object\n",
        "    tesla = ElectricCar(\"Electric Vehicle\", \"Tesla\", \"Model S\", 100)\n",
        "\n",
        "    # Display information about the ElectricCar\n",
        "    tesla.display_info()"
      ],
      "metadata": {
        "colab": {
          "base_uri": "https://localhost:8080/"
        },
        "id": "8_v3YLOFbOLa",
        "outputId": "e89c42c8-984c-4f47-857e-daed9e29a07f"
      },
      "execution_count": null,
      "outputs": [
        {
          "output_type": "stream",
          "name": "stdout",
          "text": [
            "Vehicle Type: Electric Vehicle\n",
            "Car Brand: Tesla\n",
            "Car Model: Model S\n",
            "Battery Capacity: 100 kWh\n"
          ]
        }
      ]
    },
    {
      "cell_type": "code",
      "source": [
        "#4. Demonstrate polymorphism by creating a base class Bird with a method fly(). Create two derived classes Sparrow and Penguin that override the fly() method.\n",
        "\n",
        "# Base class\n",
        "class Bird:\n",
        "    def fly(self):\n",
        "        print(\"This bird can fly.\")\n",
        "\n",
        "# Derived class 1\n",
        "class Sparrow(Bird):\n",
        "    def fly(self):\n",
        "        print(\"Sparrow flies swiftly through the sky.\")\n",
        "\n",
        "# Derived class 2\n",
        "class Penguin(Bird):\n",
        "    def fly(self):\n",
        "        print(\"Penguins can't fly, but they sure can swim!\")\n",
        "\n",
        "# Polymorphism in action\n",
        "def show_flight(bird):\n",
        "    bird.fly()\n",
        "\n",
        "# Create instances\n",
        "bird1 = Sparrow()\n",
        "bird2 = Penguin()\n",
        "\n",
        "# Demonstrate polymorphism\n",
        "show_flight(bird1)\n",
        "show_flight(bird2)"
      ],
      "metadata": {
        "colab": {
          "base_uri": "https://localhost:8080/"
        },
        "id": "O8Lznqo3bzJQ",
        "outputId": "14f06abc-7617-4a13-cb21-fd75a92dbf99"
      },
      "execution_count": null,
      "outputs": [
        {
          "output_type": "stream",
          "name": "stdout",
          "text": [
            "Sparrow flies swiftly through the sky.\n",
            "Penguins can't fly, but they sure can swim!\n"
          ]
        }
      ]
    },
    {
      "cell_type": "code",
      "source": [
        "#5. Write a program to demonstrate encapsulation by creating a class BankAccount with private attributes balance and methods to deposit, withdraw, and check balance.\n",
        "\n",
        "class BankAccount:\n",
        "    def __init__(self, initial_balance=0):\n",
        "        \"\"\"\n",
        "        Constructor to initialize the bank account with an optional initial balance.\n",
        "        The balance is private to ensure encapsulation.\n",
        "        \"\"\"\n",
        "        self.__balance = initial_balance  # Private attribute to store the balance\n",
        "\n",
        "    def deposit(self, amount):\n",
        "        \"\"\"\n",
        "        Method to deposit money into the account.\n",
        "        Ensures the deposit amount is positive.\n",
        "        \"\"\"\n",
        "        if amount > 0:\n",
        "            self.__balance += amount\n",
        "            print(f\"Successfully deposited ₹{amount}.\")\n",
        "        else:\n",
        "            print(\"Deposit amount must be positive.\")\n",
        "\n",
        "    def withdraw(self, amount):\n",
        "        \"\"\"\n",
        "        Method to withdraw money from the account.\n",
        "        Ensures sufficient balance is available and the withdrawal amount is positive.\n",
        "        \"\"\"\n",
        "        if amount > 0:\n",
        "            if amount <= self.__balance:\n",
        "                self.__balance -= amount\n",
        "                print(f\"Successfully withdrew ₹{amount}.\")\n",
        "            else:\n",
        "                print(\"Insufficient balance.\")\n",
        "        else:\n",
        "            print(\"Withdrawal amount must be positive.\")\n",
        "\n",
        "    def check_balance(self):\n",
        "        \"\"\"\n",
        "        Method to check the current balance.\n",
        "        \"\"\"\n",
        "        print(f\"Your current balance is ₹{self.__balance}.\")\n",
        "\n",
        "# Demonstration of the BankAccount class\n",
        "if __name__ == \"__main__\":\n",
        "    # Create a bank account with an initial balance of ₹1000\n",
        "    account = BankAccount(1000)\n",
        "\n",
        "    # Check the initial balance\n",
        "    account.check_balance()\n",
        "\n",
        "    # Deposit ₹500\n",
        "    account.deposit(500)\n",
        "\n",
        "    # Check the balance after deposit\n",
        "    account.check_balance()\n",
        "\n",
        "    # Attempt to withdraw ₹2000 (should fail due to insufficient balance)\n",
        "    account.withdraw(2000)\n",
        "\n",
        "    # Withdraw ₹800\n",
        "    account.withdraw(800)\n",
        "\n",
        "    # Check the balance after withdrawal\n",
        "    account.check_balance()"
      ],
      "metadata": {
        "colab": {
          "base_uri": "https://localhost:8080/"
        },
        "id": "KmoDN3u9dEQK",
        "outputId": "3c311810-0413-4ef3-8d2f-a59d07ad1e26"
      },
      "execution_count": null,
      "outputs": [
        {
          "output_type": "stream",
          "name": "stdout",
          "text": [
            "Your current balance is ₹1000.\n",
            "Successfully deposited ₹500.\n",
            "Your current balance is ₹1500.\n",
            "Insufficient balance.\n",
            "Successfully withdrew ₹800.\n",
            "Your current balance is ₹700.\n"
          ]
        }
      ]
    },
    {
      "cell_type": "code",
      "source": [
        "#6. Demonstrate runtime polymorphism using a method play() in a base class Instrument. Derive classes Guitar and Piano that implement their own version of play().\n",
        "# Base class\n",
        "class Instrument:\n",
        "    def play(self):\n",
        "        \"\"\"Base method to be overridden by derived classes\"\"\"\n",
        "        print(\"Playing an instrument...\")\n",
        "\n",
        "# Derived class: Guitar\n",
        "class Guitar(Instrument):\n",
        "    def play(self):\n",
        "        \"\"\"Override the play method for Guitar\"\"\"\n",
        "        print(\"Strumming the guitar...\")\n",
        "\n",
        "# Derived class: Piano\n",
        "class Piano(Instrument):\n",
        "    def play(self):\n",
        "        \"\"\"Override the play method for Piano\"\"\"\n",
        "        print(\"Playing the piano...\")\n",
        "\n",
        "# Function to demonstrate runtime polymorphism\n",
        "def perform(instrument):\n",
        "    \"\"\"\n",
        "    Accepts an object of type Instrument (or its subclass)\n",
        "    and calls the play() method. This demonstrates runtime polymorphism.\n",
        "    \"\"\"\n",
        "    instrument.play()\n",
        "\n",
        "# Main program\n",
        "if __name__ == \"__main__\":\n",
        "    # Create objects of Guitar and Piano\n",
        "    guitar = Guitar()\n",
        "    piano = Piano()\n",
        "\n",
        "    # Demonstrate runtime polymorphism\n",
        "    print(\"Calling play() on Guitar object:\")\n",
        "    perform(guitar)  # Calls Guitar's play()\n",
        "\n",
        "    print(\"\\nCalling play() on Piano object:\")\n",
        "    perform(piano)  # Calls Piano's play()\n",
        "\n",
        "    print(\"\\nCalling play() on Instrument object:\")\n",
        "    generic_instrument = Instrument()\n",
        "    perform(generic_instrument)  # Calls Instrument's play()"
      ],
      "metadata": {
        "colab": {
          "base_uri": "https://localhost:8080/"
        },
        "id": "Qp-mvpurelOO",
        "outputId": "5186fd0d-65b7-4e61-b9c8-967f4de0830b"
      },
      "execution_count": null,
      "outputs": [
        {
          "output_type": "stream",
          "name": "stdout",
          "text": [
            "Calling play() on Guitar object:\n",
            "Strumming the guitar...\n",
            "\n",
            "Calling play() on Piano object:\n",
            "Playing the piano...\n",
            "\n",
            "Calling play() on Instrument object:\n",
            "Playing an instrument...\n"
          ]
        }
      ]
    },
    {
      "cell_type": "code",
      "source": [
        " #7. Create a class MathOperations with a class method add_numbers() to add two numbers and a static method subtract_numbers() to subtract two numbers.\n",
        "\n",
        "class MathOperations:\n",
        "    # Class method to add two numbers\n",
        "    @classmethod\n",
        "    def add_numbers(cls, a, b):\n",
        "        \"\"\"\n",
        "        Adds two numbers and returns the result.\n",
        "        :param a: First number\n",
        "        :param b: Second number\n",
        "        :return: Sum of a and b\n",
        "        \"\"\"\n",
        "        if not (isinstance(a, (int, float)) and isinstance(b, (int, float))):\n",
        "            raise ValueError(\"Both inputs must be numbers (int or float).\")\n",
        "        return a + b\n",
        "\n",
        "    # Static method to subtract two numbers\n",
        "    @staticmethod\n",
        "    def subtract_numbers(a, b):\n",
        "        \"\"\"\n",
        "        Subtracts the second number from the first and returns the result.\n",
        "        :param a: First number\n",
        "        :param b: Second number\n",
        "        :return: Difference of a and b\n",
        "        \"\"\"\n",
        "        if not (isinstance(a, (int, float)) and isinstance(b, (int, float))):\n",
        "            raise ValueError(\"Both inputs must be numbers (int or float).\")\n",
        "        return a - b\n",
        "\n",
        "\n",
        "# Example usage\n",
        "if __name__ == \"__main__\":\n",
        "    # Using the class method to add numbers\n",
        "    result_add = MathOperations.add_numbers(10, 5)\n",
        "    print(f\"Addition Result: {result_add}\")\n",
        "\n",
        "    # Using the static method to subtract numbers\n",
        "    result_subtract = MathOperations.subtract_numbers(10, 5)\n",
        "    print(f\"Subtraction Result: {result_subtract}\")"
      ],
      "metadata": {
        "colab": {
          "base_uri": "https://localhost:8080/"
        },
        "id": "0q5tuENWfUTR",
        "outputId": "6937eefd-2025-4a15-cd4a-c410007cb5f5"
      },
      "execution_count": null,
      "outputs": [
        {
          "output_type": "stream",
          "name": "stdout",
          "text": [
            "Addition Result: 15\n",
            "Subtraction Result: 5\n"
          ]
        }
      ]
    },
    {
      "cell_type": "code",
      "source": [
        "#8. Implement a class Person with a class method to count the total number of persons created.\n",
        "class Person:\n",
        "    # Class-level attribute to keep track of the number of persons created\n",
        "    total_persons = 0\n",
        "\n",
        "    def __init__(self, name, age):\n",
        "        self.name = name\n",
        "        self.age = age\n",
        "        # Increment the class-level counter whenever a new instance is created\n",
        "        Person.total_persons += 1\n",
        "\n",
        "    @classmethod\n",
        "    def get_total_persons(cls):\n",
        "        \"\"\"\n",
        "        Class method to return the total number of persons created.\n",
        "        \"\"\"\n",
        "        return cls.total_persons\n",
        "\n",
        "    def __str__(self):\n",
        "        \"\"\"\n",
        "        String representation of the Person object.\n",
        "        \"\"\"\n",
        "        return f\"Name: {self.name}, Age: {self.age}\"\n",
        "\n",
        "\n",
        "# Example usage\n",
        "if __name__ == \"__main__\":\n",
        "    # Create some Person instances\n",
        "    person1 = Person(\"Alice\", 30)\n",
        "    person2 = Person(\"Bob\", 25)\n",
        "    person3 = Person(\"Charlie\", 35)\n",
        "\n",
        "    # Display the total number of persons created\n",
        "    print(f\"Total persons created: {Person.get_total_persons()}\")\n",
        "\n",
        "    # Display individual person details\n",
        "    print(person1)\n",
        "    print(person2)\n",
        "    print(person3)"
      ],
      "metadata": {
        "colab": {
          "base_uri": "https://localhost:8080/"
        },
        "id": "tLxuN-MPgRdF",
        "outputId": "5b069dd6-19c5-412e-a450-ce19d198f2b6"
      },
      "execution_count": null,
      "outputs": [
        {
          "output_type": "stream",
          "name": "stdout",
          "text": [
            "Total persons created: 3\n",
            "Name: Alice, Age: 30\n",
            "Name: Bob, Age: 25\n",
            "Name: Charlie, Age: 35\n"
          ]
        }
      ]
    },
    {
      "cell_type": "code",
      "source": [
        " #9. Write a class Fraction with attributes numerator and denominator. Override the str method to display the fraction as \"numerator/denominator\"\n",
        "class Fraction:\n",
        "    def __init__(self, numerator=0, denominator=1):\n",
        "        \"\"\"\n",
        "        Initialize the Fraction object with a numerator and denominator.\n",
        "        Default values are 0/1.\n",
        "        \"\"\"\n",
        "        if denominator == 0:\n",
        "            raise ValueError(\"Denominator cannot be zero.\")\n",
        "        self.numerator = numerator\n",
        "        self.denominator = denominator\n",
        "        self.simplify()  # Automatically simplify the fraction\n",
        "\n",
        "    def __str__(self):\n",
        "        \"\"\"\n",
        "        Override the __str__ method to display the fraction as \"numerator/denominator\".\n",
        "        \"\"\"\n",
        "        return f\"{self.numerator}/{self.denominator}\"\n",
        "\n",
        "    def simplify(self):\n",
        "        \"\"\"\n",
        "        Simplify the fraction by dividing the numerator and denominator\n",
        "        by their greatest common divisor (GCD).\n",
        "        \"\"\"\n",
        "        def gcd(a, b):\n",
        "            while b:\n",
        "                a, b = b, a % b\n",
        "            return abs(a)\n",
        "\n",
        "        common_divisor = gcd(self.numerator, self.denominator)\n",
        "        self.numerator //= common_divisor\n",
        "        self.denominator //= common_divisor\n",
        "        # Ensure the denominator is always positive\n",
        "        if self.denominator < 0:\n",
        "            self.numerator = -self.numerator\n",
        "            self.denominator = -self.denominator\n",
        "\n",
        "# Example Usage\n",
        "if __name__ == \"__main__\":\n",
        "    # Create a fraction object\n",
        "    fraction1 = Fraction(4, 8)\n",
        "    print(f\"Fraction 1: {fraction1}\")\n",
        "\n",
        "    fraction2 = Fraction(-3, 9)\n",
        "    print(f\"Fraction 2: {fraction2}\")\n",
        "\n",
        "    fraction3 = Fraction(5, -10)\n",
        "    print(f\"Fraction 3: {fraction3}\")\n",
        "\n",
        "    fraction4 = Fraction(0, 5)\n",
        "    print(f\"Fraction 4: {fraction4}\")"
      ],
      "metadata": {
        "colab": {
          "base_uri": "https://localhost:8080/"
        },
        "id": "JwedRLn5gyAh",
        "outputId": "de27ab45-0f20-41a8-a0aa-fc5df77dbfd2"
      },
      "execution_count": null,
      "outputs": [
        {
          "output_type": "stream",
          "name": "stdout",
          "text": [
            "Fraction 1: 1/2\n",
            "Fraction 2: -1/3\n",
            "Fraction 3: -1/2\n",
            "Fraction 4: 0/1\n"
          ]
        }
      ]
    },
    {
      "cell_type": "code",
      "source": [
        "# 10. Demonstrate operator overloading by creating a class Vector and overriding the add method to add two vectors.\n",
        "class Vector:\n",
        "    def __init__(self, x, y):\n",
        "        \"\"\"\n",
        "        Initialize a vector with x and y components.\n",
        "        \"\"\"\n",
        "        self.x = x\n",
        "        self.y = y\n",
        "\n",
        "    def __add__(self, other):\n",
        "        \"\"\"\n",
        "        Overload the + operator to add two vectors.\n",
        "        \"\"\"\n",
        "        if not isinstance(other, Vector):\n",
        "            raise TypeError(\"Operand must be an instance of Vector\")\n",
        "        # Add corresponding components of the two vectors\n",
        "        return Vector(self.x + other.x, self.y + other.y)\n",
        "\n",
        "    def __str__(self):\n",
        "        \"\"\"\n",
        "        Return a string representation of the vector.\n",
        "        \"\"\"\n",
        "        return f\"Vector({self.x}, {self.y})\"\n",
        "\n",
        "\n",
        "# Example usage\n",
        "if __name__ == \"__main__\":\n",
        "    # Create two vectors\n",
        "    v1 = Vector(3, 4)\n",
        "    v2 = Vector(1, 2)\n",
        "\n",
        "    # Add the vectors using the overloaded + operator\n",
        "    v3 = v1 + v2\n",
        "\n",
        "    # Display the result\n",
        "    print(f\"v1: {v1}\")\n",
        "    print(f\"v2: {v2}\")\n",
        "    print(f\"v1 + v2 = {v3}\")"
      ],
      "metadata": {
        "colab": {
          "base_uri": "https://localhost:8080/"
        },
        "id": "clqaQIdChTLt",
        "outputId": "cac042f3-5a18-431c-d899-8eb0fb7059c5"
      },
      "execution_count": null,
      "outputs": [
        {
          "output_type": "stream",
          "name": "stdout",
          "text": [
            "v1: Vector(3, 4)\n",
            "v2: Vector(1, 2)\n",
            "v1 + v2 = Vector(4, 6)\n"
          ]
        }
      ]
    },
    {
      "cell_type": "code",
      "source": [
        "#11.Create a class Person with attributes name and age. Add a method greet() that prints \"Hello, my name is  {name} and I am {age} years old.\"\n",
        "class Person:\n",
        "    \"\"\"\n",
        "    A class to represent a person with a name and age.\n",
        "    \"\"\"\n",
        "    def __init__(self, name, age):\n",
        "        \"\"\"\n",
        "        Initialize the Person object with name and age.\n",
        "        \"\"\"\n",
        "        # Validate that name is a string and age is a positive integer\n",
        "        if not isinstance(name, str) or not name.strip():\n",
        "            raise ValueError(\"Name must be a non-empty string.\")\n",
        "        if not isinstance(age, int) or age < 0:\n",
        "            raise ValueError(\"Age must be a non-negative integer.\")\n",
        "\n",
        "        self.name = name\n",
        "        self.age = age\n",
        "\n",
        "    def greet(self):\n",
        "        \"\"\"\n",
        "        Prints a greeting message with the person's name and age.\n",
        "        \"\"\"\n",
        "        print(f\"Hello, my name is {self.name} and I am {self.age} years old.\")\n",
        "\n",
        "# Example usage\n",
        "if __name__ == \"__main__\":\n",
        "    try:\n",
        "        # Create a Person object\n",
        "        person = Person(\"Alice\", 30)\n",
        "        # Call the greet method\n",
        "        person.greet()\n",
        "    except ValueError as e:\n",
        "        print(f\"Error: {e}\")"
      ],
      "metadata": {
        "colab": {
          "base_uri": "https://localhost:8080/"
        },
        "id": "1hAqZ7xSh1nS",
        "outputId": "c3cdf73f-bd9b-4ed6-e821-39bfdd2b21e5"
      },
      "execution_count": null,
      "outputs": [
        {
          "output_type": "stream",
          "name": "stdout",
          "text": [
            "Hello, my name is Alice and I am 30 years old.\n"
          ]
        }
      ]
    },
    {
      "cell_type": "code",
      "source": [
        " #12. Implement a class Student with attributes name and grades. Create a method average_grade() to compute the average of the grades.\n",
        " class Student:\n",
        "    def __init__(self, name, grades=None):\n",
        "        \"\"\"\n",
        "        Initialize a Student object with a name and an optional list of grades.\n",
        "        If no grades are provided, initialize with an empty list.\n",
        "        \"\"\"\n",
        "        self.name = name\n",
        "        self.grades = grades if grades is not None else []\n",
        "\n",
        "    def add_grade(self, grade):\n",
        "        \"\"\"\n",
        "        Add a grade to the student's list of grades.\n",
        "        Ensures the grade is a valid number between 0 and 100.\n",
        "        \"\"\"\n",
        "        if isinstance(grade, (int, float)) and 0 <= grade <= 100:\n",
        "            self.grades.append(grade)\n",
        "        else:\n",
        "            raise ValueError(\"Grade must be a number between 0 and 100.\")\n",
        "\n",
        "    def average_grade(self):\n",
        "        \"\"\"\n",
        "        Compute and return the average of the grades.\n",
        "        If no grades are present, return 0.\n",
        "        \"\"\"\n",
        "        if not self.grades:\n",
        "            return 0\n",
        "        return sum(self.grades) / len(self.grades)\n",
        "\n",
        "    def __str__(self):\n",
        "        \"\"\"\n",
        "        Return a string representation of the student, including their name\n",
        "        and average grade.\n",
        "        \"\"\"\n",
        "        return f\"Student Name: {self.name}, Average Grade: {self.average_grade():.2f}\"\n",
        "\n",
        "\n",
        "# Example usage\n",
        "if __name__ == \"__main__\":\n",
        "    # Create a student object\n",
        "    student = Student(\"Alice\")\n",
        "\n",
        "    # Add grades\n",
        "    student.add_grade(85)\n",
        "    student.add_grade(90)\n",
        "    student.add_grade(78)\n",
        "\n",
        "    # Print student details\n",
        "    print(student)\n",
        "\n",
        "    # Compute and display the average grade\n",
        "    print(f\"Average Grade: {student.average_grade():.2f}\")\n"
      ],
      "metadata": {
        "colab": {
          "base_uri": "https://localhost:8080/"
        },
        "id": "EeFRxxG7saHv",
        "outputId": "a99d5333-b551-4e41-89c2-0d228d3c32bc"
      },
      "execution_count": null,
      "outputs": [
        {
          "output_type": "stream",
          "name": "stdout",
          "text": [
            "Student Name: Alice, Average Grade: 84.33\n",
            "Average Grade: 84.33\n"
          ]
        }
      ]
    },
    {
      "cell_type": "code",
      "source": [
        "#13.Create a class Rectangle with methods set_dimensions() to set the dimensions and area() to calculate the area.\n",
        "class Rectangle:\n",
        "    def __init__(self):\n",
        "        \"\"\"Initialize the rectangle with default dimensions.\"\"\"\n",
        "        self.length = 0\n",
        "        self.width = 0\n",
        "\n",
        "    def set_dimensions(self, length, width):\n",
        "        \"\"\"\n",
        "        Set the dimensions of the rectangle.\n",
        "\n",
        "        Args:\n",
        "            length (float): The length of the rectangle (must be non-negative).\n",
        "            width (float): The width of the rectangle (must be non-negative).\n",
        "        \"\"\"\n",
        "        if length < 0 or width < 0:\n",
        "            raise ValueError(\"Length and width must be non-negative.\")\n",
        "        self.length = length\n",
        "        self.width = width\n",
        "\n",
        "    def area(self):\n",
        "        \"\"\"\n",
        "        Calculate the area of the rectangle.\n",
        "\n",
        "        Returns:\n",
        "            float: The area of the rectangle.\n",
        "        \"\"\"\n",
        "        return self.length * self.width\n",
        "\n",
        "\n",
        "# Example usage:\n",
        "if __name__ == \"__main__\":\n",
        "    # Create a Rectangle object\n",
        "    rect = Rectangle()\n",
        "\n",
        "    # Set dimensions\n",
        "    try:\n",
        "        rect.set_dimensions(5, 3)  # Set length = 5, width = 3\n",
        "        print(f\"Area of the rectangle: {rect.area()}\")\n",
        "    except ValueError as e:\n",
        "        print(e)\n",
        "\n",
        "    # Example with invalid dimensions\n",
        "    try:\n",
        "        rect.set_dimensions(-2, 4)  # Invalid dimensions\n",
        "    except ValueError as e:\n",
        "        print(e)"
      ],
      "metadata": {
        "colab": {
          "base_uri": "https://localhost:8080/"
        },
        "id": "aiZQMQPDtsBq",
        "outputId": "79a18722-07ab-4205-b416-3d5fd7da6b07"
      },
      "execution_count": null,
      "outputs": [
        {
          "output_type": "stream",
          "name": "stdout",
          "text": [
            "Area of the rectangle: 15\n",
            "Length and width must be non-negative.\n"
          ]
        }
      ]
    },
    {
      "cell_type": "code",
      "source": [
        "#14. Create a class Employee with a method calculate_salary() that computes the salary based on hours worked and hourly rate. Create a derived class Manager that adds a bonus to the salary\n",
        "class Employee:\n",
        "    def __init__(self, name, hours_worked, hourly_rate):\n",
        "        \"\"\"\n",
        "        Initialize the Employee with name, hours worked, and hourly rate.\n",
        "        \"\"\"\n",
        "        self.name = name\n",
        "        self.hours_worked = hours_worked\n",
        "        self.hourly_rate = hourly_rate\n",
        "\n",
        "    def calculate_salary(self):\n",
        "        \"\"\"\n",
        "        Calculate the salary based on hours worked and hourly rate.\n",
        "        \"\"\"\n",
        "        if self.hours_worked < 0 or self.hourly_rate < 0:\n",
        "            raise ValueError(\"Hours worked and hourly rate must be non-negative.\")\n",
        "        return self.hours_worked * self.hourly_rate\n",
        "\n",
        "\n",
        "class Manager(Employee):\n",
        "    def __init__(self, name, hours_worked, hourly_rate, bonus):\n",
        "        \"\"\"\n",
        "        Initialize the Manager with name, hours worked, hourly rate, and bonus.\n",
        "        \"\"\"\n",
        "        super().__init__(name, hours_worked, hourly_rate)\n",
        "        self.bonus = bonus\n",
        "\n",
        "    def calculate_salary(self):\n",
        "        \"\"\"\n",
        "        Calculate the salary by adding the bonus to the base salary.\n",
        "        \"\"\"\n",
        "        base_salary = super().calculate_salary()\n",
        "        if self.bonus < 0:\n",
        "            raise ValueError(\"Bonus must be non-negative.\")\n",
        "        return base_salary + self.bonus\n",
        "\n",
        "\n",
        "# Example usage\n",
        "if __name__ == \"__main__\":\n",
        "    # Create an Employee instance\n",
        "    employee = Employee(name=\"John Doe\", hours_worked=40, hourly_rate=20)\n",
        "    print(f\"Employee {employee.name}'s salary: ${employee.calculate_salary()}\")\n",
        "\n",
        "    # Create a Manager instance\n",
        "    manager = Manager(name=\"Jane Smith\", hours_worked=40, hourly_rate=30, bonus=500)\n",
        "    print(f\"Manager {manager.name}'s salary: ${manager.calculate_salary()}\")"
      ],
      "metadata": {
        "colab": {
          "base_uri": "https://localhost:8080/"
        },
        "id": "E6xOdoG6up90",
        "outputId": "fa99c7b9-d371-4382-a5ee-db6401936349"
      },
      "execution_count": null,
      "outputs": [
        {
          "output_type": "stream",
          "name": "stdout",
          "text": [
            "Employee John Doe's salary: $800\n",
            "Manager Jane Smith's salary: $1700\n"
          ]
        }
      ]
    },
    {
      "cell_type": "code",
      "source": [
        "#15. Create a class Product with attributes name, price, and quantity. Implement a method total_price() that calculates the total price of the product.\n",
        "class Product:\n",
        "    def __init__(self, name, price, quantity):\n",
        "        \"\"\"\n",
        "        Initialize the Product object with name, price, and quantity.\n",
        "        \"\"\"\n",
        "        # Validate inputs\n",
        "        if not isinstance(name, str) or not name.strip():\n",
        "            raise ValueError(\"Product name must be a non-empty string.\")\n",
        "        if not isinstance(price, (int, float)) or price < 0:\n",
        "            raise ValueError(\"Price must be a non-negative number.\")\n",
        "        if not isinstance(quantity, int) or quantity < 0:\n",
        "            raise ValueError(\"Quantity must be a non-negative integer.\")\n",
        "\n",
        "        self.name = name.strip()\n",
        "        self.price = price\n",
        "        self.quantity = quantity\n",
        "\n",
        "    def total_price(self):\n",
        "        \"\"\"\n",
        "        Calculate the total price of the product based on price and quantity.\n",
        "        \"\"\"\n",
        "        return self.price * self.quantity\n",
        "\n",
        "    def __str__(self):\n",
        "        \"\"\"\n",
        "        Return a string representation of the product.\n",
        "        \"\"\"\n",
        "        return f\"Product(name='{self.name}', price={self.price}, quantity={self.quantity})\"\n",
        "\n",
        "\n",
        "# Example usage\n",
        "if __name__ == \"__main__\":\n",
        "    try:\n",
        "        # Create a product instance\n",
        "        product = Product(name=\"Laptop\", price=50000, quantity=2)\n",
        "\n",
        "        # Display product details\n",
        "        print(product)\n",
        "\n",
        "        # Calculate and display the total price\n",
        "        print(f\"Total price of {product.name}: {product.total_price()}\")\n",
        "    except ValueError as e:\n",
        "        print(f\"Error: {e}\")"
      ],
      "metadata": {
        "colab": {
          "base_uri": "https://localhost:8080/"
        },
        "id": "7sG02kOxvZhJ",
        "outputId": "3791f75f-802d-42c8-e384-2abbcf69a10b"
      },
      "execution_count": null,
      "outputs": [
        {
          "output_type": "stream",
          "name": "stdout",
          "text": [
            "Product(name='Laptop', price=50000, quantity=2)\n",
            "Total price of Laptop: 100000\n"
          ]
        }
      ]
    },
    {
      "cell_type": "code",
      "source": [
        "# 16. Create a class Animal with an abstract method sound(). Create two derived classes Cow and Sheep that implement the sound() method.\n",
        "from abc import ABC, abstractmethod\n",
        "\n",
        "# Abstract base class\n",
        "class Animal(ABC):\n",
        "    @abstractmethod\n",
        "    def sound(self):\n",
        "        \"\"\"Abstract method to be implemented by derived classes\"\"\"\n",
        "        pass\n",
        "\n",
        "# Derived class Cow\n",
        "class Cow(Animal):\n",
        "    def sound(self):\n",
        "        return \"Moo\"\n",
        "\n",
        "# Derived class Sheep\n",
        "class Sheep(Animal):\n",
        "    def sound(self):\n",
        "        return \"Baa\"\n",
        "\n",
        "# Main function to demonstrate functionality\n",
        "def main():\n",
        "    # Create instances of Cow and Sheep\n",
        "    cow = Cow()\n",
        "    sheep = Sheep()\n",
        "\n",
        "    # Call the sound method and display the results\n",
        "    print(f\"The Cow says: {cow.sound()}\")\n",
        "    print(f\"The Sheep says: {sheep.sound()}\")\n",
        "\n",
        "if __name__ == \"__main__\":\n",
        "    main()"
      ],
      "metadata": {
        "colab": {
          "base_uri": "https://localhost:8080/"
        },
        "id": "3RHnCcgmv_7m",
        "outputId": "fab05b5f-e26e-4415-9b77-8520d9f14eec"
      },
      "execution_count": null,
      "outputs": [
        {
          "output_type": "stream",
          "name": "stdout",
          "text": [
            "The Cow says: Moo\n",
            "The Sheep says: Baa\n"
          ]
        }
      ]
    },
    {
      "cell_type": "code",
      "source": [
        "#17. Create a class Book with attributes title, author, and year_published. Add a method get_book_info() that  returns a formatted string with the book's details\n",
        "class Book:\n",
        "    \"\"\"\n",
        "    A class to represent a book with its title, author, and year of publication.\n",
        "    \"\"\"\n",
        "    def __init__(self, title, author, year_published):\n",
        "        \"\"\"\n",
        "        Initialize the Book object with title, author, and year_published.\n",
        "        \"\"\"\n",
        "        self.title = title\n",
        "        self.author = author\n",
        "        self.year_published = year_published\n",
        "\n",
        "    def get_book_info(self):\n",
        "        \"\"\"\n",
        "        Returns a formatted string with the book's details.\n",
        "        \"\"\"\n",
        "        return f\"'{self.title}' by {self.author}, published in {self.year_published}.\"\n",
        "\n",
        "\n",
        "# Example usage\n",
        "if __name__ == \"__main__\":\n",
        "    # Create an instance of the Book class\n",
        "    book = Book(\"To Kill a Mockingbird\", \"Harper Lee\", 1960)\n",
        "\n",
        "    # Get and display the book's information\n",
        "    print(book.get_book_info())"
      ],
      "metadata": {
        "colab": {
          "base_uri": "https://localhost:8080/"
        },
        "id": "5rC0INOqwajx",
        "outputId": "9b644abb-eb53-44bb-a38a-0cae666870bc"
      },
      "execution_count": null,
      "outputs": [
        {
          "output_type": "stream",
          "name": "stdout",
          "text": [
            "'To Kill a Mockingbird' by Harper Lee, published in 1960.\n"
          ]
        }
      ]
    },
    {
      "cell_type": "code",
      "source": [
        "#18. Create a class House with attributes address and price. Create a derived class Mansion that adds an attribute number_of_rooms\n",
        "# Base class: House\n",
        "class House:\n",
        "    def __init__(self, address, price):\n",
        "        \"\"\"\n",
        "        Initialize the House class with address and price attributes.\n",
        "        \"\"\"\n",
        "        self.address = address\n",
        "        self.price = price\n",
        "\n",
        "    def display_details(self):\n",
        "        \"\"\"\n",
        "        Display the details of the house.\n",
        "        \"\"\"\n",
        "        print(f\"Address: {self.address}\")\n",
        "        print(f\"Price: ₹{self.price:,}\")\n",
        "\n",
        "\n",
        "# Derived class: Mansion\n",
        "class Mansion(House):\n",
        "    def __init__(self, address, price, number_of_rooms):\n",
        "        \"\"\"\n",
        "        Initialize the Mansion class with additional attribute: number_of_rooms.\n",
        "        \"\"\"\n",
        "        # Call the constructor of the base class\n",
        "        super().__init__(address, price)\n",
        "        self.number_of_rooms = number_of_rooms\n",
        "\n",
        "    def display_details(self):\n",
        "        \"\"\"\n",
        "        Display the details of the mansion, including the number of rooms.\n",
        "        \"\"\"\n",
        "        # Call the base class method to display common details\n",
        "        super().display_details()\n",
        "        print(f\"Number of Rooms: {self.number_of_rooms}\")\n",
        "\n",
        "\n",
        "# Example usage\n",
        "if __name__ == \"__main__\":\n",
        "    # Create a House object\n",
        "    house = House(\"123 Main Street, Mumbai\", 5000000)\n",
        "    print(\"House Details:\")\n",
        "    house.display_details()\n",
        "\n",
        "    print(\"\\n\")\n",
        "\n",
        "    # Create a Mansion object\n",
        "    mansion = Mansion(\"456 Luxury Lane, Mumbai\", 20000000, 10)\n",
        "    print(\"Mansion Details:\")\n",
        "    mansion.display_details()"
      ],
      "metadata": {
        "colab": {
          "base_uri": "https://localhost:8080/"
        },
        "id": "Lb4ahESpxO5-",
        "outputId": "9227f190-2b83-41b6-db92-5b635399b082"
      },
      "execution_count": null,
      "outputs": [
        {
          "output_type": "stream",
          "name": "stdout",
          "text": [
            "House Details:\n",
            "Address: 123 Main Street, Mumbai\n",
            "Price: ₹5,000,000\n",
            "\n",
            "\n",
            "Mansion Details:\n",
            "Address: 456 Luxury Lane, Mumbai\n",
            "Price: ₹20,000,000\n",
            "Number of Rooms: 10\n"
          ]
        }
      ]
    }
  ]
}